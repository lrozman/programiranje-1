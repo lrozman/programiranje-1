{
 "cells": [
  {
   "cell_type": "code",
   "execution_count": 10,
   "metadata": {
    "vscode": {
     "languageId": "ocaml"
    }
   },
   "outputs": [
    {
     "data": {
      "text/plain": [
       "val char_list_to_string : char list -> string = <fun>\n"
      ]
     },
     "execution_count": 10,
     "metadata": {},
     "output_type": "execute_result"
    }
   ],
   "source": [
    "let char_list_to_string cl = String.concat \"\" (List.map (String.make 1) cl)"
   ]
  },
  {
   "cell_type": "code",
   "execution_count": 11,
   "metadata": {
    "vscode": {
     "languageId": "ocaml"
    }
   },
   "outputs": [
    {
     "data": {
      "text/plain": [
       "- : string = \" a \"\n"
      ]
     },
     "execution_count": 11,
     "metadata": {},
     "output_type": "execute_result"
    }
   ],
   "source": [
    "char_list_to_string [' '; 'a'; ' ';]"
   ]
  },
  {
   "cell_type": "code",
   "execution_count": 12,
   "metadata": {
    "vscode": {
     "languageId": "ocaml"
    }
   },
   "outputs": [
    {
     "data": {
      "text/plain": [
       "val string_to_char_list : string -> char list = <fun>\n"
      ]
     },
     "execution_count": 12,
     "metadata": {},
     "output_type": "execute_result"
    }
   ],
   "source": [
    "let string_to_char_list niz = List.init (String.length niz) (String.get niz)"
   ]
  },
  {
   "cell_type": "code",
   "execution_count": 13,
   "metadata": {
    "vscode": {
     "languageId": "ocaml"
    }
   },
   "outputs": [
    {
     "data": {
      "text/plain": [
       "- : char list = [' '; 'a'; 'b'; ' '; 'c']\n"
      ]
     },
     "execution_count": 13,
     "metadata": {},
     "output_type": "execute_result"
    }
   ],
   "source": [
    "string_to_char_list \" ab c\""
   ]
  },
  {
   "cell_type": "code",
   "execution_count": 14,
   "metadata": {
    "vscode": {
     "languageId": "ocaml"
    }
   },
   "outputs": [
    {
     "data": {
      "text/plain": [
       "- : string = \"abc\"\n"
      ]
     },
     "execution_count": 14,
     "metadata": {},
     "output_type": "execute_result"
    }
   ],
   "source": [
    "String.trim \"   abc    \""
   ]
  },
  {
   "cell_type": "code",
   "execution_count": 16,
   "metadata": {
    "vscode": {
     "languageId": "ocaml"
    }
   },
   "outputs": [
    {
     "data": {
      "text/plain": [
       "val trak1 : string = \"   abcDe  fg    h    \"\n"
      ]
     },
     "execution_count": 16,
     "metadata": {},
     "output_type": "execute_result"
    }
   ],
   "source": [
    "let trak1 = \"   abcDe  fg    h    \"\n",
    "(* Imam torej kao glavo na D. in mam en seznam, k je c b a prazen, in morm sam to nakonc porezat, pa obrnt.*)\n",
    "(* Lahko levga najprej obrnem, potem najdem find_index od prvega elementa, k ni prazen in pol nardim sub\n",
    "    Desn pa morm najt zadnga, da so od tam naprej sam še presledki ... nočm ga za brez veze obračat ...\n",
    "    Ker more bit kao učinkovito to vse skupi .... rabla bi sam en left/right trim ...\n",
    "    Okej pač enkrat se bom mogla čez sprehodt. Grem se probat sam enkrat.\n",
    "    Za ta desnga. Grem enkrat čez, da dobim indeks tazadnga k je blank z eno funkcijo in pol substring.\n",
    "    Grem torej dvakrat čez. Kar je bolš, kokr da dvakrat obrnem in enkrat iščem.\n",
    "    Za ta levga pa pač obrnem in grem do tam, kjer prvič je znak.\n",
    "    Kaj pa če mam desn seznam in grem čez, da najdem zadnjega praznega\n",
    "in potem še enkrat čez sam do unga indeksa z nekim mapi in hkrati nardim string.\n",
    "Pa a se pozna, da nardim tri stringe in jih concateniram skupi, kokr pa da dodajam na enga?\n",
    "Sej ne vem, kako stringi delujejo - a je sploh razlika?*)"
   ]
  },
  {
   "cell_type": "code",
   "execution_count": 17,
   "metadata": {
    "vscode": {
     "languageId": "ocaml"
    }
   },
   "outputs": [
    {
     "data": {
      "text/plain": [
       "- : string list =\n",
       "[\"\"; \"\"; \"\"; \"abcDe\"; \"\"; \"fg\"; \"\"; \"\"; \"\"; \"h\"; \"\"; \"\"; \"\"; \"\"]\n"
      ]
     },
     "execution_count": 17,
     "metadata": {},
     "output_type": "execute_result"
    }
   ],
   "source": [
    "String.split_on_char ' ' trak1"
   ]
  },
  {
   "cell_type": "code",
   "execution_count": 18,
   "metadata": {
    "vscode": {
     "languageId": "ocaml"
    }
   },
   "outputs": [
    {
     "data": {
      "text/plain": [
       "val pomozna_desni1 : char list -> int = <fun>\n"
      ]
     },
     "execution_count": 18,
     "metadata": {},
     "output_type": "execute_result"
    }
   ],
   "source": [
    "let pomozna_desni1 desni_char_list =\n",
    "  let rec aux i_konca i carry sez =\n",
    "    match carry, sez with\n",
    "    | _, [] -> i_konca (*če je praten, bo 0, bo prazen string nakonc*)\n",
    "    | true, x :: xs when x = ' ' -> aux i_konca (i + 1) true xs (* vrsta presledkov *)\n",
    "    | false, x :: xs when x = ' ' -> aux i (i + 1) true xs (*vidu prvi presledek po drugih znakih*)\n",
    "    | carry, x :: xs -> aux (i + 1) (i + 1) false xs (*kerkol drug znak pa izklop zastavco, pa ta znak mora bit v nizu, tkoda i + 1\n",
    "    ker bo šlo do ne-vključno. Torej raj nardim, da gre do vključno, in se poveča vsakič, k je neprazen znak.\n",
    "    Pa ne rabm zastavce ?*)\n",
    "  in\n",
    "  aux 0 0 false desni_char_list"
   ]
  },
  {
   "cell_type": "code",
   "execution_count": 19,
   "metadata": {
    "vscode": {
     "languageId": "ocaml"
    }
   },
   "outputs": [
    {
     "data": {
      "text/plain": [
       "- : int = 5\n"
      ]
     },
     "execution_count": 19,
     "metadata": {},
     "output_type": "execute_result"
    }
   ],
   "source": [
    "pomozna_desni1 (string_to_char_list \" ab c   \")"
   ]
  },
  {
   "cell_type": "code",
   "execution_count": 20,
   "metadata": {
    "vscode": {
     "languageId": "ocaml"
    }
   },
   "outputs": [
    {
     "data": {
      "text/plain": [
       "- : int = 0\n"
      ]
     },
     "execution_count": 20,
     "metadata": {},
     "output_type": "execute_result"
    }
   ],
   "source": [
    "pomozna_desni1 (string_to_char_list \" \")"
   ]
  },
  {
   "cell_type": "code",
   "execution_count": 21,
   "metadata": {
    "vscode": {
     "languageId": "ocaml"
    }
   },
   "outputs": [
    {
     "data": {
      "text/plain": [
       "val pomozna_desni2 : char list -> int = <fun>\n"
      ]
     },
     "execution_count": 21,
     "metadata": {},
     "output_type": "execute_result"
    }
   ],
   "source": [
    "let pomozna_desni2 desni_char_list =\n",
    "  let rec aux i_konca i sez =\n",
    "    match sez with\n",
    "    | [] -> i_konca (*če je praten, bo 0, bo prazen string nakonc*)\n",
    "    | x :: xs when x = ' ' -> aux i_konca (i + 1) xs (* vrsta presledkov *)\n",
    "    | x :: xs -> aux i (i + 1) xs (*kerkol drug znak pa izklop zastavco, pa ta znak mora bit v nizu, tkoda i + 1\n",
    "    ker bo šlo do ne-vključno. Torej raj nardim, da gre do vključno, in se poveča vsakič, k je neprazen znak.\n",
    "    Pa ne rabm zastavce ?*)\n",
    "  in\n",
    "  aux 0 0 desni_char_list"
   ]
  },
  {
   "cell_type": "code",
   "execution_count": 22,
   "metadata": {
    "vscode": {
     "languageId": "ocaml"
    }
   },
   "outputs": [
    {
     "data": {
      "text/plain": [
       "- : int = 0\n"
      ]
     },
     "execution_count": 22,
     "metadata": {},
     "output_type": "execute_result"
    }
   ],
   "source": [
    "pomozna_desni2 (string_to_char_list \"     \")"
   ]
  },
  {
   "cell_type": "code",
   "execution_count": 24,
   "metadata": {
    "vscode": {
     "languageId": "ocaml"
    }
   },
   "outputs": [
    {
     "name": "stderr",
     "output_type": "stream",
     "text": [
      "File \"[24]\", line 9, characters 6-15:\n",
      "9 |   let zberi_začetek_v_niz i_konca cl =\n",
      "          ^^^^^^^^^\n",
      "Alert deprecated: ISO-Latin1 characters in identifiers\n"
     ]
    },
    {
     "ename": "error",
     "evalue": "compile_error",
     "output_type": "error",
     "traceback": [
      "File \"[24]\", line 9, characters 15-16:\n9 |   let zberi_začetek_v_niz i_konca cl =\n                   ^\nError: Illegal character (\\141)\n"
     ]
    }
   ],
   "source": [
    "let pomozna_desni desni_char_list =\n",
    "  let rec aux_iskanje_konca i_konca i sez =\n",
    "    match sez with\n",
    "    | [] -> i_konca (*če je praten, bo 0, bo prazen string nakonc*)\n",
    "    | x :: xs when x = ' ' -> aux_iskanje_konca i_konca (i + 1) xs\n",
    "    | x :: xs -> aux_iskanje_konca i (i + 1) xs (*Torej raj nardim, da gre do vključno, in se poveča vsakič, k je neprazen znak.*)\n",
    "  in\n",
    "  let indeks_konca_niza = aux_iskanje_konca 0 0 desni_char_list in\n",
    "  let zberi_začetek_v_niz i_konca cl =\n",
    "    let rec aux_v_niz acc i l =\n",
    "      match i, l with\n",
    "      | _, [] -> acc\n",
    "      | i, x :: xs when i <= i_konca -> aux_v_niz (acc ^ Char.escaped x) (i + 1) xs\n",
    "      | i, x :: xs -> acc (* Nas ne zanima več*)\n",
    "      (* to men zgleda zelo ne dobr časovno, ker gre kvadratično čez string\n",
    "      Sam kako pa list.concat to nardi? ...... ???*)\n",
    "    in\n",
    "    aux_v_niz \"\" 0 cl\n",
    "  in\n",
    "  zberi_začetek_v_niz indeks_konca_niza desni_char_list\n",
    "  (*hotla sm neki z List.mapi in pol vrže ven vse ostale.\n",
    "  Une spremeni v string, tisto pa vrže ven, kar je odveč. A probam?*)\n",
    "in\n",
    "let desni_niz = pomozna_desni desni_char_list in"
   ]
  },
  {
   "cell_type": "code",
   "execution_count": 27,
   "metadata": {
    "vscode": {
     "languageId": "ocaml"
    }
   },
   "outputs": [
    {
     "data": {
      "text/plain": [
       "val filter_mapi : (int -> 'a -> 'b option) -> 'a list -> 'b list = <fun>\n"
      ]
     },
     "execution_count": 27,
     "metadata": {},
     "output_type": "execute_result"
    }
   ],
   "source": [
    "let filter_mapi f =\n",
    "  let rec aux acc i =\n",
    "    function\n",
    "    | [] -> List.rev acc\n",
    "    | x :: xs -> (\n",
    "      if Option.is_none (f i x) then aux acc (i + 1) xs\n",
    "      else aux (Option.get (f i x) :: acc) (i + 1) xs\n",
    "    )\n",
    "  in\n",
    "  aux [] 0"
   ]
  },
  {
   "cell_type": "code",
   "execution_count": 28,
   "metadata": {
    "vscode": {
     "languageId": "ocaml"
    }
   },
   "outputs": [
    {
     "data": {
      "text/plain": [
       "val pomozna_desni : char list -> string = <fun>\n"
      ]
     },
     "execution_count": 28,
     "metadata": {},
     "output_type": "execute_result"
    }
   ],
   "source": [
    "(* Probam še z vgrajenimi bolj zale konc*)\n",
    "let pomozna_desni desni_char_list =\n",
    "  let rec aux_iskanje_konca i_konca i sez =\n",
    "    match sez with\n",
    "    | [] -> i_konca (*če je praten, bo 0, bo prazen string nakonc*)\n",
    "    | x :: xs when x = ' ' -> aux_iskanje_konca i_konca (i + 1) xs\n",
    "    | x :: xs -> aux_iskanje_konca i (i + 1) xs (*Torej raj nardim, da gre do vključno, in se poveča vsakič, k je neprazen znak.*)\n",
    "  in\n",
    "  let indeks_konca_niza = aux_iskanje_konca 0 0 desni_char_list in\n",
    "  let f_desni_map_z_indeksom_konca i c =\n",
    "    if i <= indeks_konca_niza then Some (Char.escaped c)\n",
    "    else None\n",
    "  in\n",
    "  filter_mapi f_desni_map_z_indeksom_konca desni_char_list\n",
    "  |> String.concat \"\"\n",
    "  (* ubistvu bi rabla filter_mapi, ki pa ne obstaja, ampak smo ga enkrat implementiral ...*)\n",
    "  (*hotla sm neki z List.mapi in pol vrže ven vse ostale.\n",
    "  Une spremeni v string, tisto pa vrže ven, kar je odveč. A probam?*)"
   ]
  },
  {
   "cell_type": "code",
   "execution_count": 29,
   "metadata": {
    "vscode": {
     "languageId": "ocaml"
    }
   },
   "outputs": [
    {
     "data": {
      "text/plain": [
       "val cl1 : char list = [' '; ' '; 'a'; 'b'; ' '; 'c'; ' ']\n"
      ]
     },
     "execution_count": 29,
     "metadata": {},
     "output_type": "execute_result"
    }
   ],
   "source": [
    "let cl1 = [' '; ' '; 'a'; 'b'; ' '; 'c'; ' ']"
   ]
  },
  {
   "cell_type": "code",
   "execution_count": 30,
   "metadata": {
    "vscode": {
     "languageId": "ocaml"
    }
   },
   "outputs": [
    {
     "data": {
      "text/plain": [
       "- : string = \"  ab c\"\n"
      ]
     },
     "execution_count": 30,
     "metadata": {},
     "output_type": "execute_result"
    }
   ],
   "source": [
    "pomozna_desni cl1"
   ]
  },
  {
   "cell_type": "code",
   "execution_count": 31,
   "metadata": {
    "vscode": {
     "languageId": "ocaml"
    }
   },
   "outputs": [
    {
     "data": {
      "text/plain": [
       "val print_list : char list -> unit = <fun>\n"
      ]
     },
     "execution_count": 31,
     "metadata": {},
     "output_type": "execute_result"
    }
   ],
   "source": [
    "let rec print_list = function \n",
    "[] -> ()\n",
    "| c::l -> Printf.printf \"%c\" c ; print_list l"
   ]
  },
  {
   "cell_type": "code",
   "execution_count": 32,
   "metadata": {
    "vscode": {
     "languageId": "ocaml"
    }
   },
   "outputs": [
    {
     "data": {
      "text/plain": [
       "- : unit = ()\n"
      ]
     },
     "execution_count": 32,
     "metadata": {},
     "output_type": "execute_result"
    }
   ],
   "source": [
    "print_list [' '; ' '; 'l'; 'a'; ' '; 'r'; 'a']"
   ]
  },
  {
   "cell_type": "code",
   "execution_count": 33,
   "metadata": {
    "vscode": {
     "languageId": "ocaml"
    }
   },
   "outputs": [
    {
     "data": {
      "text/plain": [
       "- : unit = ()\n"
      ]
     },
     "execution_count": 33,
     "metadata": {},
     "output_type": "execute_result"
    }
   ],
   "source": [
    "Printf.printf \"%c\" ' '"
   ]
  },
  {
   "cell_type": "code",
   "execution_count": 35,
   "metadata": {
    "vscode": {
     "languageId": "ocaml"
    }
   },
   "outputs": [
    {
     "data": {
      "text/plain": [
       "val print_desni : char list -> unit = <fun>\n"
      ]
     },
     "execution_count": 35,
     "metadata": {},
     "output_type": "execute_result"
    }
   ],
   "source": [
    "(* Popravek: že sproti naj printa.\n",
    "Tkoda za desnega lahko nardim tko, da printa dokler je znak, k ni presledek,\n",
    "pol si shranjuje ostalo v string, in pol, k je spet znak, če je, sprinta najprej un string, pol pa to.*)\n",
    "let print_desni desni_char_list =\n",
    "  let rec aux_printd_in_iskanje_konca acc_niz sez =\n",
    "    match sez with\n",
    "    | [] -> () (* Pršli do konca alpa je prazen. In nič ne naprinta, kar je okej, ker bo glavo sprintu tud, če bo prazna*)\n",
    "    | x :: xs when x = ' ' -> aux_printd_in_iskanje_konca (acc_niz ^ (Char.escaped x)) xs (* Če je presledek, da v pomožni niz*)\n",
    "    | x :: xs -> (\n",
    "      Printf.printf \"%s\" acc_niz; Printf.printf \"%c\" x ; aux_printd_in_iskanje_konca \"\" xs (*Torej znak, če smo vmes shranjeval presledke, jih zdele še naprintamo*)\n",
    "    )\n",
    "  in\n",
    "  aux_printd_in_iskanje_konca \"\" desni_char_list"
   ]
  },
  {
   "cell_type": "code",
   "execution_count": null,
   "metadata": {
    "vscode": {
     "languageId": "ocaml"
    }
   },
   "outputs": [
    {
     "data": {
      "text/plain": [
       "val print_levi : char list -> unit = <fun>\n"
      ]
     },
     "execution_count": 37,
     "metadata": {},
     "output_type": "execute_result"
    }
   ],
   "source": [
    "let print_levi obrnjen_levi_char_list =\n",
    "  let rec aux_ltrim_in_printl flag sez =\n",
    "    match flag, sez with\n",
    "    | _, [] -> ()\n",
    "    | false, x :: xs when x = ' ' -> aux_ltrim_in_printl false xs\n",
    "    | false, x :: xs -> Printf.printf \"%c\" x ; aux_ltrim_in_printl true xs\n",
    "    | true, x :: xs -> Printf.printf \"%c\" x ; aux_ltrim_in_printl true xs (* Ko enkrat naleti na znak, ki ni presledek, sprinta vse naprej*)\n",
    "  in\n",
    "  aux_ltrim_in_printl false obrnjen_levi_char_list\n",
    "  (* sam te ta leve morm tud preštet.*)"
   ]
  },
  {
   "cell_type": "code",
   "execution_count": 40,
   "metadata": {
    "vscode": {
     "languageId": "ocaml"
    }
   },
   "outputs": [
    {
     "data": {
      "text/plain": [
       "- : unit = ()\n"
      ]
     },
     "execution_count": 40,
     "metadata": {},
     "output_type": "execute_result"
    }
   ],
   "source": [
    "Printf.printf \"%!\""
   ]
  },
  {
   "cell_type": "code",
   "execution_count": null,
   "metadata": {
    "vscode": {
     "languageId": "ocaml"
    }
   },
   "outputs": [
    {
     "data": {
      "text/plain": [
       "val print_levi_in_prestej : char list -> int = <fun>\n"
      ]
     },
     "execution_count": 42,
     "metadata": {},
     "output_type": "execute_result"
    }
   ],
   "source": [
    "let print_levi_in_prestej obrnjen_levi_char_list =\n",
    "  let rec aux_ltrim_in_printl flag dolzina_niza sez =\n",
    "    match flag, sez with\n",
    "    | _, [] -> dolzina_niza\n",
    "    | false, x :: xs when x = ' ' -> aux_ltrim_in_printl false (dolzina_niza + 1) xs\n",
    "    | false, x :: xs -> Printf.printf \"%c\" x ; aux_ltrim_in_printl true (dolzina_niza + 1) xs\n",
    "    | true, x :: xs -> Printf.printf \"%c\" x ; aux_ltrim_in_printl true (dolzina_niza + 1) xs (* Ko enkrat naleti na znak, ki ni presledek, sprinta vse naprej*)\n",
    "  in\n",
    "  aux_ltrim_in_printl false 0 obrnjen_levi_char_list\n",
    "  (* sam te ta leve morm tud preštet.*)\n",
    "  (* Ne vrne unita, kar je problem, verjetno. Ker pol bo cel print kr en drek vraču.\n",
    "  Seprav je to vse brezveze in morm sam it čez seznam dvakrat pač, oziroma še enkrat za reverse, tkoda trikrat ...*)"
   ]
  },
  {
   "cell_type": "code",
   "execution_count": 45,
   "metadata": {
    "vscode": {
     "languageId": "ocaml"
    }
   },
   "outputs": [
    {
     "data": {
      "text/plain": [
       "val obrni_ltrim_prestej_levi : char list -> int = <fun>\n"
      ]
     },
     "execution_count": 45,
     "metadata": {},
     "output_type": "execute_result"
    }
   ],
   "source": [
    "(* Pač a profitiram, če dam sproti jih že v string pa sam sprintam pol? *)\n",
    "(* sam glede na to, da so immutable, pa da dvomm, da so verižni, ker pol ne bi mogu do indeksa dostopat,\n",
    "verjetno dela skos nove alpa kej. Razen, če je kokr python seznam.\n",
    "Jap, concat je O(n), tkoda če ga delam na vsakem koraku mam O(n^2)*)\n",
    "let obrni_ltrim_prestej_levi1 levi_char_list = \n",
    "  let rec aux_ltrim_in_prestej i flag sez =\n",
    "    match flag, sez with\n",
    "    | _, [] -> i\n",
    "    | false, x :: xs when x = ' ' -> aux_ltrim_in_prestej 0 false xs\n",
    "    | false, x :: xs -> aux_ltrim_in_prestej (i + 1) true xs\n",
    "    | true, x :: xs -> aux_ltrim_in_prestej (i + 1) true xs\n",
    "  in\n",
    "  List.rev levi_char_list \n",
    "  |> aux_ltrim_in_prestej 0 false\n",
    "  (* sam js zdej dobim sam int ven, rada bi še nov seznam. sam pol ga morm spet okrog obračat.\n",
    "  To je še en O(n) in pol še enkrat za print. Ampak sej, it trikrat skoz, manj kot to ne znam, ane?\n",
    "  Kar je štirkrat vse skupi ...\n",
    "  Manj lahko dobim: če sproti printam, sam pol nimam informacije, kam dat glavo, morm še enkrat čez itak.\n",
    "  Kar je tko, kar je zdej, al kaj? In pol je tud čist vseen, a vržem ven seznam takoj, k je neprazen znak,\n",
    "  pa dam list.length, al jih še js sprot preštejem. In dam v krajši seznam. Al kaj.*)"
   ]
  },
  {
   "cell_type": "code",
   "execution_count": null,
   "metadata": {
    "vscode": {
     "languageId": "ocaml"
    }
   },
   "outputs": [],
   "source": [
    "(* Je pa tole cist zabavno drgač :P 21/1/25, 12.31*)"
   ]
  },
  {
   "cell_type": "code",
   "execution_count": 55,
   "metadata": {
    "vscode": {
     "languageId": "ocaml"
    }
   },
   "outputs": [
    {
     "data": {
      "text/plain": [
       "val obrni_ltrim_prestej_levi : char list -> int * char list = <fun>\n"
      ]
     },
     "execution_count": 55,
     "metadata": {},
     "output_type": "execute_result"
    }
   ],
   "source": [
    "let obrni_ltrim_prestej_levi levi_char_list = \n",
    "  let rec aux_ltrim_in_prestej i flag acc sez =\n",
    "    match flag, sez with\n",
    "    | _, [] -> i, List.rev acc\n",
    "    | false, x :: xs when x = ' ' -> aux_ltrim_in_prestej 0 false [] xs\n",
    "    | false, x :: xs -> aux_ltrim_in_prestej (i + 1) true (x :: acc) xs\n",
    "    | true, x :: xs -> aux_ltrim_in_prestej (i + 1) true (x :: acc) xs\n",
    "  in\n",
    "  List.rev levi_char_list \n",
    "  |> aux_ltrim_in_prestej 0 false []\n",
    "  (* n + n + n *)"
   ]
  },
  {
   "cell_type": "code",
   "execution_count": 47,
   "metadata": {
    "vscode": {
     "languageId": "ocaml"
    }
   },
   "outputs": [
    {
     "data": {
      "text/plain": [
       "- : int * char list = (6, ['c'; ' '; 'b'; 'a'; ' '; ' '])\n"
      ]
     },
     "execution_count": 47,
     "metadata": {},
     "output_type": "execute_result"
    }
   ],
   "source": [
    "obrni_ltrim_prestej_levi cl1"
   ]
  },
  {
   "cell_type": "code",
   "execution_count": 48,
   "metadata": {
    "vscode": {
     "languageId": "ocaml"
    }
   },
   "outputs": [
    {
     "data": {
      "text/plain": [
       "val cl0 : char list = [' '; ' '; ' '; ' '; ' '; ' '; ' '; ' '; ' '; ' ']\n"
      ]
     },
     "execution_count": 48,
     "metadata": {},
     "output_type": "execute_result"
    }
   ],
   "source": [
    "let cl0 = List.init 10 (fun x -> ' ')"
   ]
  },
  {
   "cell_type": "code",
   "execution_count": 51,
   "metadata": {
    "vscode": {
     "languageId": "ocaml"
    }
   },
   "outputs": [
    {
     "data": {
      "text/plain": [
       "- : int * char list = (3, ['l'; ' '; ' '])\n"
      ]
     },
     "execution_count": 51,
     "metadata": {},
     "output_type": "execute_result"
    }
   ],
   "source": [
    "obrni_ltrim_prestej_levi [' '; ' '; 'l'; ' '; ' '; ' '; ' '; ' '; ' '; ' ']"
   ]
  },
  {
   "cell_type": "code",
   "execution_count": 56,
   "metadata": {
    "vscode": {
     "languageId": "ocaml"
    }
   },
   "outputs": [
    {
     "data": {
      "text/plain": [
       "val print_levi2 : char list -> unit = <fun>\n"
      ]
     },
     "execution_count": 56,
     "metadata": {},
     "output_type": "execute_result"
    }
   ],
   "source": [
    "let rec print_levi2 obrnjen_trim_levi_cl =\n",
    "  match obrnjen_trim_levi_cl with\n",
    "  | [] -> ()\n",
    "  | x :: xs -> Printf.printf \"%c\" x ; print_levi2 xs"
   ]
  },
  {
   "cell_type": "code",
   "execution_count": 57,
   "metadata": {
    "vscode": {
     "languageId": "ocaml"
    }
   },
   "outputs": [
    {
     "data": {
      "text/plain": [
       "val print_char_list : char list -> unit = <fun>\n"
      ]
     },
     "execution_count": 57,
     "metadata": {},
     "output_type": "execute_result"
    }
   ],
   "source": [
    "let rec print_char_list = function \n",
    "  | [] -> ()\n",
    "  | c :: cs -> Printf.printf \"%c\" c ; print_char_list cs"
   ]
  },
  {
   "cell_type": "code",
   "execution_count": 58,
   "metadata": {
    "vscode": {
     "languageId": "ocaml"
    }
   },
   "outputs": [
    {
     "data": {
      "text/plain": [
       "val print_levi : char list -> unit = <fun>\n"
      ]
     },
     "execution_count": 58,
     "metadata": {},
     "output_type": "execute_result"
    }
   ],
   "source": [
    "let print_levi levi_char_list = \n",
    "  let obrni_ltrim_prestej_levi levi_char_list = \n",
    "    let rec aux_ltrim_in_prestej i flag acc sez =\n",
    "      match flag, sez with\n",
    "      | _, [] -> i, List.rev acc\n",
    "      | false, x :: xs when x = ' ' -> aux_ltrim_in_prestej 0 false [] xs\n",
    "      | false, x :: xs -> aux_ltrim_in_prestej (i + 1) true (x :: acc) xs\n",
    "      | true, x :: xs -> aux_ltrim_in_prestej (i + 1) true (x :: acc) xs\n",
    "    in\n",
    "    List.rev levi_char_list \n",
    "    |> aux_ltrim_in_prestej 0 false []\n",
    "  in\n",
    "  let indeks, levi = obrni_ltrim_prestej_levi levi_char_list in\n",
    "  print_char_list levi\n",
    "  (* Aha sej bom mogla dat te pomožne v cel print, da bo tale indeks ostal nekje.*)"
   ]
  },
  {
   "cell_type": "code",
   "execution_count": 81,
   "metadata": {
    "vscode": {
     "languageId": "ocaml"
    }
   },
   "outputs": [
    {
     "ename": "error",
     "evalue": "compile_error",
     "output_type": "error",
     "traceback": [
      "File \"[81]\", line 10, characters 0-0:\nError: Syntax error\n"
     ]
    }
   ],
   "source": [
    "(* Še sprintat morm *)\n",
    "let indeks5 = 5 in\n",
    "let printanje_druge_vrste indeks =  (*dela tud za indeks = 0, pol nikol pač ne nardi*)\n",
    "  Printf.printf \"%s\" \"\\n\";\n",
    "  for i=1 to indeks do\n",
    "    Printf.printf \"%c\" ' '\n",
    "  done;\n",
    "  Printf.printf \"%s\" \"^\\n\"\n",
    "  (* To ne vem, zakaj, ne dela. Dela v terminalu ??*)"
   ]
  },
  {
   "cell_type": "code",
   "execution_count": null,
   "metadata": {
    "vscode": {
     "languageId": "ocaml"
    }
   },
   "outputs": [],
   "source": [
    "# let f elem =\n",
    "  Printf.printf \"I'm looking at element %d now\\n\" elem\n",
    "in\n",
    "  List.iter f my_list;;\n",
    "I'm looking at element 1 now\n",
    "I'm looking at element 2 now\n",
    "I'm looking at element 3 now\n",
    "I'm looking at element 4 now\n",
    "I'm looking at element 5 now\n",
    "I'm looking at element 6 now\n",
    "I'm looking at element 7 now\n",
    "I'm looking at element 8 now\n",
    "I'm looking at element 9 now\n",
    "I'm looking at element 10 now\n"
   ]
  },
  {
   "cell_type": "code",
   "execution_count": 84,
   "metadata": {
    "vscode": {
     "languageId": "ocaml"
    }
   },
   "outputs": [
    {
     "data": {
      "text/plain": [
       "val print_desni2 : char list -> unit = <fun>\n"
      ]
     },
     "execution_count": 84,
     "metadata": {},
     "output_type": "execute_result"
    }
   ],
   "source": [
    "let print_desni2 desni_char_list =\n",
    "  let rec aux_printd_in_iskanje_konca stevec_presledkov sez = (* Sej v pomožnem so samo presledki!*)\n",
    "    match sez with\n",
    "    | [] -> ()\n",
    "    | x :: xs when x = ' ' -> aux_printd_in_iskanje_konca (stevec_presledkov + 1) xs (* Če je presledek, prešteje, kok jih mora natisnt. *)\n",
    "    (* To ma bs časovno zahtevnost, naredi raje seznam, al kaj. *)\n",
    "    | x :: xs -> (\n",
    "      for i=1 to stevec_presledkov do\n",
    "        Printf.printf \"%c\" ' '\n",
    "      done;\n",
    "      Printf.printf \"%c\" x ; \n",
    "      aux_printd_in_iskanje_konca 0 xs (*Torej znak, če smo vmes shranjeval presledke, jih zdele še naprintamo*)\n",
    "    )\n",
    "  in\n",
    "  aux_printd_in_iskanje_konca 0 desni_char_list"
   ]
  },
  {
   "cell_type": "code",
   "execution_count": 90,
   "metadata": {
    "vscode": {
     "languageId": "ocaml"
    }
   },
   "outputs": [
    {
     "data": {
      "text/plain": [
       "val print_triple : char list * char * char list -> unit = <fun>\n"
      ]
     },
     "execution_count": 90,
     "metadata": {},
     "output_type": "execute_result"
    }
   ],
   "source": [
    "let print_triple = function\n",
    "| (levi, glava, desni) -> (\n",
    "  let obrni_ltrim_prestej_levi levi_char_list = \n",
    "    let rec aux_ltrim_in_prestej i flag acc sez =\n",
    "      match flag, sez with\n",
    "      | _, [] -> i, List.rev acc\n",
    "      | false, x :: xs when x = ' ' -> aux_ltrim_in_prestej 0 false [] xs\n",
    "      | false, x :: xs -> aux_ltrim_in_prestej (i + 1) true (x :: acc) xs\n",
    "      | true, x :: xs -> aux_ltrim_in_prestej (i + 1) true (x :: acc) xs\n",
    "    in\n",
    "    List.rev levi_char_list \n",
    "    |> aux_ltrim_in_prestej 0 false []\n",
    "  in \n",
    "  (* Vrne levi seznam pripravljen za print in njegovo dolžino. *)\n",
    "  let rec print_char_list = function \n",
    "    | [] -> ()\n",
    "    | c :: cs -> Printf.printf \"%c\" c ; print_char_list cs\n",
    "  in\n",
    "  let dolzina, levi_za_print = obrni_ltrim_prestej_levi levi in\n",
    "  print_char_list levi_za_print; \n",
    "  (* Sprintan je levi del traku. *)\n",
    "  Printf.printf \"%c\" glava;\n",
    "  (* Sprintana je glava. *)\n",
    "  let print_desni desni_char_list =\n",
    "    let rec aux_printd_in_iskanje_konca stevec_presledkov sez = (* Sej v pomožnem so samo presledki!*)\n",
    "      match sez with\n",
    "      | [] -> ()\n",
    "      | x :: xs when x = ' ' -> aux_printd_in_iskanje_konca (stevec_presledkov + 1) xs (* Če je presledek, prešteje, kok jih mora natisnt. *)\n",
    "      (* To ma bs časovno zahtevnost, naredi raje seznam, al kaj. *)\n",
    "      | x :: xs -> (\n",
    "        for i=1 to stevec_presledkov do\n",
    "          Printf.printf \"%c\" ' '\n",
    "        done;\n",
    "        Printf.printf \"%c\" x ; \n",
    "        aux_printd_in_iskanje_konca 0 xs (*Torej znak, če smo vmes shranjeval presledke, jih zdele še naprintamo*)\n",
    "      )\n",
    "    in\n",
    "    aux_printd_in_iskanje_konca 0 desni_char_list\n",
    "  in\n",
    "  print_desni desni;\n",
    "  (* Sprintan je desni del traku. *)\n",
    "  Printf.printf \"%s\" \"\\n\";\n",
    "  for i=1 to dolzina do\n",
    "    Printf.printf \"%c\" ' '\n",
    "  done;\n",
    "  Printf.printf \"%s\" \"^\\n\"\n",
    "  (* Sprintana je druga vrsta. *)\n",
    ")"
   ]
  },
  {
   "cell_type": "code",
   "execution_count": 91,
   "metadata": {
    "vscode": {
     "languageId": "ocaml"
    }
   },
   "outputs": [
    {
     "data": {
      "text/plain": [
       "val triple1 : char list * char * char list =\n",
       "  ([' '; ' '; 'a'; 'b'; ' '; 'c'; ' '], ' ',\n",
       "   [' '; ' '; 'a'; 'b'; ' '; 'c'; ' '])\n"
      ]
     },
     "execution_count": 91,
     "metadata": {},
     "output_type": "execute_result"
    }
   ],
   "source": [
    "let triple1 = (cl1, ' ', cl1)"
   ]
  },
  {
   "cell_type": "code",
   "execution_count": 92,
   "metadata": {
    "vscode": {
     "languageId": "ocaml"
    }
   },
   "outputs": [
    {
     "data": {
      "text/plain": [
       "- : unit = ()\n"
      ]
     },
     "execution_count": 92,
     "metadata": {},
     "output_type": "execute_result"
    }
   ],
   "source": [
    "print_triple triple1"
   ]
  },
  {
   "cell_type": "code",
   "execution_count": 93,
   "metadata": {
    "vscode": {
     "languageId": "ocaml"
    }
   },
   "outputs": [
    {
     "data": {
      "text/plain": [
       "type direction = Left | Right\n"
      ]
     },
     "execution_count": 93,
     "metadata": {},
     "output_type": "execute_result"
    }
   ],
   "source": [
    "type direction = Left | Right"
   ]
  },
  {
   "cell_type": "code",
   "execution_count": 94,
   "metadata": {
    "vscode": {
     "languageId": "ocaml"
    }
   },
   "outputs": [
    {
     "ename": "error",
     "evalue": "compile_error",
     "output_type": "error",
     "traceback": [
      "File \"[94]\", line 3, characters 10-14:\n3 |   | Left, Trak (levi, glava, desni) -> (\n              ^^^^\nError: Unbound constructor Trak\n"
     ]
    }
   ],
   "source": [
    "let move dir trak = \n",
    "  match dir, trak with\n",
    "  | Left, Trak (levi, glava, desni) -> (\n",
    "    match levi with\n",
    "    | [] -> Trak ([], ' ', glava :: desni)\n",
    "    | x :: xs -> Trak (xs, x, glava :: desni) (* Je to vse ?*)\n",
    "  )\n",
    "  | Right, Trak (levi, glava, desni) -> (\n",
    "    match desni with\n",
    "    | [] -> Trak (glava :: levi, ' ', [])\n",
    "    | x :: xs -> Trak (glava :: levi, x, xs)\n",
    "  )"
   ]
  },
  {
   "cell_type": "code",
   "execution_count": null,
   "metadata": {
    "vscode": {
     "languageId": "ocaml"
    }
   },
   "outputs": [],
   "source": [
    "(* PRED ZAPISNIM TIPOM *)\n",
    "module Tape : TAPE = struct\n",
    "  type t = Trak of char list * char * char list\n",
    "  (* Če sem prav razumela, je zapisni tip itak immutable in je vseen.\n",
    "  Razmisli, a vseeno zamenjam na zapisni tip, če bodo zaradi tega lepše funkcije.\n",
    "  POPRAVI !*)\n",
    "\n",
    "  (*let char_list_to_string cl = String.concat \"\" (List.map (String.make 1) cl)*)\n",
    "  (*Če bom še rabla to funkcijo, sem dala ven*)\n",
    "  (* Pozab, to ma neko biggest loser slovenia casovno zahtevnost pomoje.*)\n",
    "  let string_to_char_list niz = List.init (String.length niz) (String.get niz)\n",
    "  (*Če bom rabla, dam ven iz make, pa mam kle*)\n",
    "  (* A raj to nardim na roke, da je zihr O(n), sam sej te implementirane menda niso glupe?*)\n",
    "\n",
    "  let make niz =\n",
    "    let char_list = List.init (String.length niz) (String.get niz) in\n",
    "    match char_list with\n",
    "    | [] -> Trak ([], ' ', [])\n",
    "    | x :: xs -> Trak ([], x, xs)\n",
    "\n",
    "  let print = function\n",
    "    | Trak (levi, glava, desni) -> (\n",
    "      let obrni_ltrim_prestej_levi levi_char_list = \n",
    "        let rec aux_ltrim_in_prestej i flag acc sez =\n",
    "          match flag, sez with\n",
    "          | _, [] -> i, List.rev acc\n",
    "          | false, x :: xs when x = ' ' -> aux_ltrim_in_prestej 0 false [] xs\n",
    "          | false, x :: xs -> aux_ltrim_in_prestej (i + 1) true (x :: acc) xs\n",
    "          | true, x :: xs -> aux_ltrim_in_prestej (i + 1) true (x :: acc) xs\n",
    "        in\n",
    "        List.rev levi_char_list \n",
    "        |> aux_ltrim_in_prestej 0 false []\n",
    "      in \n",
    "      (* Vrne levi seznam pripravljen za print in njegovo dolžino. *)\n",
    "      let rec print_char_list = function \n",
    "        | [] -> ()\n",
    "        | c :: cs -> Printf.printf \"%c\" c ; print_char_list cs\n",
    "      in\n",
    "      let dolzina, levi_za_print = obrni_ltrim_prestej_levi levi in\n",
    "      print_char_list levi_za_print; \n",
    "      (* Sprintan je levi del traku. *)\n",
    "      Printf.printf \"%c\" glava;\n",
    "      (* Sprintana je glava. *)\n",
    "      let print_desni desni_char_list =\n",
    "        let rec aux_printd_in_iskanje_konca stevec_presledkov sez = (* Sej v pomožnem so samo presledki!*)\n",
    "          match sez with\n",
    "          | [] -> ()\n",
    "          | x :: xs when x = ' ' -> aux_printd_in_iskanje_konca (stevec_presledkov + 1) xs (* Če je presledek, prešteje, kok jih mora natisnt. *)\n",
    "          (* To ma bs časovno zahtevnost, naredi raje seznam, al kaj. *)\n",
    "          | x :: xs -> (\n",
    "            for i=1 to stevec_presledkov do\n",
    "              Printf.printf \"%c\" ' '\n",
    "            done;\n",
    "            Printf.printf \"%c\" x ; \n",
    "            aux_printd_in_iskanje_konca 0 xs (*Torej znak, če smo vmes shranjeval presledke, jih zdele še naprintamo*)\n",
    "          )\n",
    "        in\n",
    "        aux_printd_in_iskanje_konca 0 desni_char_list\n",
    "      in\n",
    "      print_desni desni;\n",
    "      (* Sprintan je desni del traku. *)\n",
    "      Printf.printf \"%s\" \"\\n\";\n",
    "      for i=1 to dolzina do\n",
    "        Printf.printf \"%c\" ' '\n",
    "      done;\n",
    "      Printf.printf \"%s\" \"^\\n\"\n",
    "      (* Sprintana je druga vrsta. *)\n",
    "    )\n",
    "\n",
    "  let read = function\n",
    "    | Trak (_, glava, _) -> glava\n",
    "  let move dir trak = \n",
    "    match dir, trak with\n",
    "    | Left, Trak (levi, glava, desni) -> (\n",
    "      match levi with\n",
    "      | [] -> Trak ([], ' ', glava :: desni)\n",
    "      | x :: xs -> Trak (xs, x, glava :: desni)\n",
    "    )\n",
    "    | Right, Trak (levi, glava, desni) -> (\n",
    "      match desni with\n",
    "      | [] -> Trak (glava :: levi, ' ', [])\n",
    "      | x :: xs -> Trak (glava :: levi, x, xs)\n",
    "    )\n",
    "  let write c = function\n",
    "    | Trak (levi, glava, desni) -> Trak (levi, c, desni)\n",
    "end\n",
    "\n",
    "let primer_trak = Tape.(\n",
    "  make \"ABCDE\"\n",
    "  |> move Left\n",
    "  |> move Left\n",
    "  |> move Right\n",
    "  |> move Right\n",
    "  |> move Right\n",
    "  |> move Right\n",
    "  |> write '!'\n",
    "  |> print\n",
    ")"
   ]
  },
  {
   "cell_type": "markdown",
   "metadata": {},
   "source": [
    "Krajsi zapis"
   ]
  },
  {
   "cell_type": "code",
   "execution_count": 1,
   "metadata": {
    "vscode": {
     "languageId": "ocaml"
    }
   },
   "outputs": [],
   "source": [
    "(*for_state vzamem state, nek seznam pa machine. Vrne machine.\n",
    "in ma ta seznam funkcij. for_character alpa for_characters.\n",
    "Tole for_c \"\" @@ move Right je insto kokr move Right (for_characters \"01\")\n",
    "In ocitno mas loh seznam funkcij -> istga tipa!\n",
    "klele sta delno uporabljeni na nizu pa stringu, tkoda vzameta pa isto stvar (ki je?)\n",
    "in vrneta kaj?*)\n",
    "(* Ampak nardi pa seprav isto, kokr:\n",
    "add_transition \"right\" '1' \"right\" '1' Right\n",
    "Al kaj? (Mislm isti pride, ampak pač sam zapis je krajši, bi rekla, da je tko.)\n",
    "seprav for_state gre po seznamu in nardi to, da\n",
    "delno uporabi add_transition, s ta prvo, k je.\n",
    "Sepravi move vzame dir pa funkcijo\n",
    "in switch and move vzame dir pa funkcijo\n",
    "pa machine verjetn. TKoda to so verjetno funkcije machine -> machine\n",
    "okej for_state vzame ta svoj state. In pogleda prvo funkcijo v seznamu\n",
    "in je tko, aha okej, move Right (for_characters \"01\"). Kaj nardi ta for_characters?\n",
    "Kaj pa če ti nardi sam seznam characterjev ? in pol iteriraš po tem.\n",
    "Sam to je dost neuporabno in pol za brez veze potratno. ?\n",
    "Pač če nardi neki podobnega, pol sam združ to, da maš za enga pa za več.\n",
    "kar sicer ni tok neumno, da je pač move loh funkcija, sam to se zihr\n",
    "da na boljši način narest? Kt da greš dvakrat čez vse?\n",
    "for_characters torej verjetno vzame string in vrne eno obliko, k so characterji,\n",
    "pa jo bodo brale ostale funkcije.\n",
    "move, switch, write pa vzamejo stanje/dir/char, pa to, na k terem characterju morjo to narest.\n",
    "for_state pa vzame stanje pa te funkcije, k vrnejo pol un niz al kaj, ubistvu,\n",
    "da je pol sam add_transition\n",
    "?\n",
    "Sepravi je for_state: state -> () list -> machine -> machine\n",
    "for_character: char -> 'a?\n",
    "for_characters: string -> 'a?\n",
    "move: -> dir -> 'a? \n",
    "NI RES!!!!!\n",
    "for_c \"\" @@ move Right je (for_characters \"01\" (move Right)) !!!!!!\n",
    "sej to ma za vrstn red prej več smisla.\n",
    "Jovo na novo.\n",
    "for_character vzame char pa funkcijo. in?\n",
    "a pol te switch/move/write že vračajo nize teh ukazov\n",
    "in un tipo doda še dva. Sam pol for_characters vrne več nizov,\n",
    "for character pa sam enga. to pa s tipi za seznam ne bo šlo skoz.\n",
    "Razen če vrača neke seznam nizov. Pol je vseen, kok jih je.\n",
    "AMpak to vse je pa res samo zapis ?\n",
    "A karkol profitiraš razn da lepš zgleda, pa da lahko iste hkrati?\n",
    "O ne. Ne pa ne. Ker add_transtition vzame state, char, state, char, dir.\n",
    "O ne.\n",
    "Seprav morjo teli vrnt nekak char, state, char, dir.\n",
    "Uno move, switch, write so pa, da ti sam enkrat na roke spišeš,\n",
    "da npr move isti char prepiše, pa isti state ohran itd.\n",
    "Aja lol, nabor. Al kaj? Array fix hoče isti tip\n",
    "Aha, krasn. Obstaja cela struktura Map, o tem je verjetno FK govoru na vajah.\n",
    "Jao :P\n",
    "Js pa nism vaj nardila, ampak glej, ni časa, pa zdej že je narjen.\n",
    "Sej tok počasnej pa spet ne more bit.\n",
    "No okej, vrnejo nabor. Al kaj. Oziroma seznam naborov al kaj.\n",
    "Sam to je velik enga sprehajanja.\n",
    "Ampak ajde\n",
    "for_character: char -> state * char * dir -> char * state * char * dir list\n",
    "A z arrayem kej profitiram? ne, ker isto morm linearno potečt čez.\n",
    "Množica sploh ne, kaj mi pa še ostane? nč.\n",
    "Pač neki spregledujem oziroma nimam dost znanja, ker to ne more bit to.\n",
    "for_characters: string -> state * char * dir -> char * state * char * dir list\n",
    "move: dir -> state * char * dir\n",
    "switch_and_move: -> state -> dir -> state * char * dir\n",
    "write_and_move: -> char -> dir -> state * char * dir\n",
    "write_switch_and_move: -> char -> state -> dir -> state * char * dir\n",
    "for_state: state -> (char * state * char * dir list) list -> machine -> machine\n",
    "sam to je tok neumn.\n",
    "*)\n"
   ]
  },
  {
   "cell_type": "code",
   "execution_count": 3,
   "metadata": {
    "vscode": {
     "languageId": "ocaml"
    }
   },
   "outputs": [
    {
     "ename": "error",
     "evalue": "compile_error",
     "output_type": "error",
     "traceback": [
      "File \"[3]\", line 13, characters 16-38:\n13 |           ts := Machine.add_transition stanje1 char1 stanje2 char2 dir (!ts);\n                     ^^^^^^^^^^^^^^^^^^^^^^\nError: Unbound module Machine\n"
     ]
    }
   ],
   "source": [
    "let for_state1 stanje1 sez machine =\n",
    "  let ts = ref machine in\n",
    "  let rec list_aux = function\n",
    "    | [] -> ()\n",
    "    | l :: ls -> ( (*ne splača se mi flattenat časovno, če itak ne rabm več tega seznama, al kaj?*)\n",
    "      let quit_loop = ref false in\n",
    "      let l1 = ref l in\n",
    "      while not !quit_loop do\n",
    "        match !l1 with\n",
    "        | [] -> quit_loop := true\n",
    "        | nabor :: nabori -> (\n",
    "          let char1, stanje2, char2, dir = nabor in\n",
    "          ts := Machine.add_transition stanje1 char1 stanje2 char2 dir (!ts);\n",
    "          l1 := nabori\n",
    "        )\n",
    "      done; (* da nau nakonc to vrnlo taprvega ?*) (* A nardim referenco al kaj?*)\n",
    "      list_aux ls\n",
    "      )\n",
    "  in\n",
    "  list_aux sez;\n",
    "  !ts\n",
    "(* Pač sej časovna zahtevnost je sam tok, da vse elemente preberem, če tko nardim, al kaj?\n",
    "Sej boljš ne bo, al kaj?*)\n",
    "\n",
    "let for_character1 char st_ch_dir_nabor =\n",
    "  let state2, char2, dir = st_ch_dir_nabor in\n",
    "  [(char, state2, char2, dir)]\n",
    "\n",
    "let for_characters1 niz st_ch_dir_nabor =\n",
    "  let state2, char2, dir = st_ch_dir_nabor in\n",
    "  (* Kako se stringi dejansko dela ? *)\n",
    "  (* Ker se jih ne da matchat al kaj? \n",
    "  A morm dejansko it najprej čez s String.length in pol for loop?\n",
    "  Krasno, 2n, love. Za brezveze.*)\n",
    "  let dolzina = String.length niz in\n",
    "  (* let sez = ref [] in\n",
    "  for i=1 to dolzina  *)\n",
    "  (* Sam kle rabm i. A ga for loop ma v ocamlu?\n",
    "  Ajde, grem kr lepo z rekurzijo za vsak slučaj*)\n",
    "  let rec aux acc indeks = \n",
    "    match indeks with\n",
    "    | i when i = dolzina -> acc\n",
    "    | i -> aux ((niz.[i], state2, char2, dir) :: acc) (i+1)\n",
    "  in\n",
    "  aux [] 0\n",
    "\n",
    "(* Ej sam to je zabavno drgač. Pač res je dobra naloga, všeč mi je.\n",
    "Pa še assembly pa turingove stroje smo spoznal. Pač hudo. *)\n",
    "\n",
    "(* move: dir -> state * char * dir\n",
    "switch_and_move: -> state -> dir -> state * char * dir\n",
    "write_and_move: -> char -> dir -> state * char * dir\n",
    "write_switch_and_move: -> char -> state -> dir -> state * char * dir *)\n",
    "(* let move dir = () *)\n",
    "(* WRAAAAAAAAAAAA idiot en, sej js kle še ne vem, kero je blo začetno stanje in vseeeee*)\n",
    "(* Okej. Gremo probatrešt problem.\n",
    "Da vseen to. Ampak da prazne nize. To je drgač ilegalna stvar, ane. \n",
    "Sam pr characterju bo problem, k ne morš empty characterja.\n",
    "Option!\n",
    "Optione loh.\n",
    "In vsak v uno, kar je none, prepiše svoje isto.\n",
    "Še vedno mi je všeč ta naloga, sam zdele pa ej. Pa že eno uro pa pol \n",
    "tole podnalogo delam, pa še ni blizu narjenga. *)\n",
    "let move dir = (None, None, Some dir)\n",
    "let switch_and_move stanje2 dir = (Some stanje2, None, Some dir)\n",
    "let write_and_move char2 dir = (None, Some char2, Some dir)\n",
    "let write_switch_and_move char2 stanje2 dir = (Some stanje2, Some char2, Some dir)\n",
    "\n",
    "(* In zdej so uni vsi ostali optioni! \n",
    "for_character: char -> state opt * char opt * dir opt -> char opt * state opt * char opt * dir opt list\n",
    "for_characters: string -> state opt * char opt * dir opt -> char opt * state opt * char opt * dir opt list\n",
    "for_state: state -> (char opt * state opt * char opt * dir opt list) list -> machine -> machine\n",
    "*)"
   ]
  },
  {
   "cell_type": "code",
   "execution_count": null,
   "metadata": {
    "vscode": {
     "languageId": "ocaml"
    }
   },
   "outputs": [],
   "source": [
    "\n",
    "let move dir = (None, None, dir)\n",
    "let switch_and_move stanje2 dir = (Some stanje2, None, dir)\n",
    "let write_and_move char2 dir = (None, Some char2, dir)\n",
    "let write_switch_and_move char2 stanje2 dir = (Some stanje2, Some char2, dir)\n",
    "\n",
    "(* In zdej so uni vsi ostali optioni! \n",
    "for_character: char -> state opt * char opt * dir opt -> char * state opt * char opt * dir opt list\n",
    "for_characters: string -> state opt * char opt * dir opt -> char * state opt * char opt * dir opt list\n",
    "for_state: state -> (char * state opt * char opt * dir opt list) list -> machine -> machine\n",
    "*)\n",
    "\n",
    "let for_character char st_ch_dir_nabor =\n",
    "  let state2, char_opt, dir = st_ch_dir_nabor in\n",
    "  if Option.is_none char_opt then [(char, state2, char, dir)]\n",
    "  else [(char, state2, Option.get char_opt, dir)]\n",
    "  (* Če nismo rabl zapisat novga. Pol *)\n",
    "  (* char1 ne rab bit option. Ker to mora bit\n",
    "in noben tega ne bo spreminju. Pa tud char nerab bit več opt.\n",
    "Pa dir tud ne rab bit opt. *)\n",
    "\n",
    "let for_characters niz st_ch_dir_nabor =\n",
    "  let state2, char_opt, dir = st_ch_dir_nabor in\n",
    "  (* Loh že kle pogledat, a je tole None, da ne delam tega vsakič sprot *)\n",
    "  (* Sam morm narest eno referenco več. Sam a je to vseen bolš?*)\n",
    "  let char_some = ref false in\n",
    "  if Option.is_some char_opt then char_some := true else char_some := false;\n",
    "  let dolzina = String.length niz in\n",
    "  let rec aux acc indeks = \n",
    "    match indeks with\n",
    "    | i when i = dolzina -> acc\n",
    "    | i -> \n",
    "      if !char_some then aux ((niz.[i], state2, Option.get char_opt, dir) :: acc) (i+1)\n",
    "      else aux ((niz.[i], state2, niz.[i], dir) :: acc) (i+1)\n",
    "  in\n",
    "  aux [] 0\n",
    "\n",
    "let for_state stanje1 sez machine =\n",
    "  let ts = ref machine in\n",
    "  let rec list_aux = function\n",
    "    | [] -> ()\n",
    "    | l :: ls -> ( (*ne splača se mi flattenat časovno, če itak ne rabm več tega seznama, al kaj?*)\n",
    "      let quit_loop = ref false in\n",
    "      let l1 = ref l in\n",
    "      while not !quit_loop do\n",
    "        match !l1 with\n",
    "        | [] -> quit_loop := true\n",
    "        | nabor :: nabori -> (\n",
    "          let char1, stanje2_opt, char2, dir = nabor in\n",
    "          (* Še za stanje morm pogledat, a že je *)\n",
    "          let stanje2 = ref \"\" in\n",
    "          if Option.is_some stanje2_opt then stanje2 := Option.get stanje2_opt \n",
    "          else stanje2 := stanje1;\n",
    "          (* Js pomoje zdej preveč uporabljam reference ej*)\n",
    "          ts := Machine.add_transition stanje1 char1 !stanje2 char2 dir (!ts);\n",
    "          l1 := nabori\n",
    "        )\n",
    "      done; (* da nau nakonc to vrnlo taprvega ?*) (* A nardim referenco al kaj?*)\n",
    "      list_aux ls\n",
    "      )\n",
    "  in\n",
    "  list_aux sez;\n",
    "  !ts"
   ]
  },
  {
   "cell_type": "markdown",
   "metadata": {},
   "source": [
    "Run"
   ]
  },
  {
   "cell_type": "code",
   "execution_count": null,
   "metadata": {
    "vscode": {
     "languageId": "ocaml"
    }
   },
   "outputs": [],
   "source": [
    "let slow_run (ts : Machine.t) niz = \n",
    "  (* Seprav kle nakonc done-a ni več v slovarju funkcij in se ustav, ker je bil None vrnjen ? *)\n",
    "  let trak = ref (Tape.make niz) in\n",
    "  Tape.print !trak;\n",
    "  Printf.printf \"%s\\n\" (Machine.zacetno_stanje ts); (* Prej je blo kle ts.zacetno_stanje, ker tip ni bil abstrakten. ... ?!??!?!?! *)\n",
    "  let quit_loop = ref false in\n",
    "  let stanje = ref (Machine.zacetno_stanje ts) in\n",
    "  while not !quit_loop do\n",
    "    match (Machine.step ts !stanje !trak) with\n",
    "    | None -> quit_loop := true\n",
    "    | Some (novo_stanje, novi_trak) ->\n",
    "      Tape.print novi_trak;\n",
    "      Printf.printf \"%s\\n\" novo_stanje;\n",
    "      stanje := novo_stanje;\n",
    "      trak := novi_trak\n",
    "    done\n",
    "\n",
    "let speed_run (ts: Machine.t) niz =\n",
    "  (* Zdej pa js nevem, a se loh trak spreminja al se ne sme in kaj to sploh pomen?\n",
    "  V smislu, kle je referenca in pol gre ?\n",
    "  Sam samga traku se pa nobenga ne da sprement?\n",
    "  ?????????????!!!!!!!!!!!!!*)\n",
    "  (* Drgač pač sam z rekurzijo napišemo, ampak itak nč ne profitiramo,\n",
    "  ker do unih itak ne dostopaš? Nikol več, ker ne morš. ? *)\n",
    "  let trak = ref (Tape.make niz) in\n",
    "  let quit_loop = ref false in\n",
    "  let stanje = ref (Machine.zacetno_stanje ts) in\n",
    "  while not !quit_loop do\n",
    "    match (Machine.step ts !stanje !trak) with\n",
    "    | None -> \n",
    "      Tape.print !trak;\n",
    "      quit_loop := true\n",
    "    | Some (novo_stanje, novi_trak) ->\n",
    "      stanje := novo_stanje;\n",
    "      trak := novi_trak\n",
    "    done\n"
   ]
  },
  {
   "cell_type": "code",
   "execution_count": null,
   "metadata": {
    "vscode": {
     "languageId": "ocaml"
    }
   },
   "outputs": [],
   "source": [
    "let duplicate_niz = \n",
    "  Machine.make \"posci_konec\" [\"poisci_zacetek\"; \"prepisi_znak\"; \"0naM\"; \"1naM\";\n",
    "    \"nesi0\"; \"nesi1\"; \"najdiM\"; \"poisci_znak\"; \"0naN\"; \"1naN\"; \"brisanje_in_konec\"]\n",
    "  |> for_state \"posci_konec\" [\n",
    "    for_characters \"01\" @@ move Right;\n",
    "    for_character ' ' @@ write_switch_and_move 'N' \"poisci_zacetek\" Left;\n",
    "  ]\n",
    "  |> for_state \"poisci_zacetek\" [\n",
    "    for_characters \"01\" @@ move Left;\n",
    "    for_character ' ' @@ write_switch_and_move 'M' \"prepisi_znak\" Right\n",
    "  ]\n",
    "  |> for_state \"prepisi_znak\" [\n",
    "    for_character '0' @@ write_switch_and_move 'M' \"0naM\" Left;\n",
    "    for_character '1' @@ write_switch_and_move 'M' \"1naM\" Left; (*Ali še kej sem?*)\n",
    "    for_character 'N' @@ switch_and_move \"poisci_znak\" Left\n",
    "  ]\n",
    "  |> for_state \"0naM\" [\n",
    "    for_character 'M' @@ write_switch_and_move '0' \"nesi0\" Right\n",
    "  ]\n",
    "  |> for_state \"1naM\" [\n",
    "    for_character 'M' @@ write_switch_and_move '1' \"nesi1\" Right\n",
    "  ]\n",
    "  |> for_state \"nesi0\" [\n",
    "    for_characters \"01NM\" @@ move Right;\n",
    "    for_character ' ' @@ write_switch_and_move '0' \"najdiM\" Left\n",
    "  ]\n",
    "  |> for_state \"nesi1\" [\n",
    "    for_characters \"01NM\" @@ move Right;\n",
    "    for_character ' ' @@ write_switch_and_move '1' \"najdiM\" Left\n",
    "  ]\n",
    "  |> for_state \"najdiM\" [\n",
    "    for_characters \"01N\" @@ move Left;\n",
    "    for_character 'M' @@ switch_and_move \"prepisi_znak\" Right\n",
    "  ]\n",
    "  |> for_state \"poisci_znak\" [\n",
    "    for_characters \"NM\" @@ move Left;\n",
    "    for_character '0' @@ write_switch_and_move 'M' \"0naN\" Right;\n",
    "    for_character '1' @@ write_switch_and_move 'M' \"1naN\" Right;\n",
    "    for_character ' ' @@ switch_and_move \"brisanje_in_konec\" Right\n",
    "  ]\n",
    "  |> for_state \"0naN\" [\n",
    "    for_character 'M' @@ write_and_move 'N' Right;\n",
    "    for_character 'N' @@ write_switch_and_move '0' \"poisci_znak\" Left\n",
    "  ]\n",
    "  |> for_state \"1naN\" [\n",
    "    for_character 'M' @@ write_and_move 'N' Right;\n",
    "    for_character 'N' @@ write_switch_and_move '1' \"poisci_znak\" Left\n",
    "  ]\n",
    "  |> for_state \"brisanje_in_konec\" [\n",
    "    for_characters \"NM\" @@ write_and_move ' ' Right\n",
    "  ]\n",
    "(* joooj, ker sm js idiot. Ja, js sm podvojila cel niz. Mogla bi podvojit vsak znak.\n",
    "Looool. Pa dej no, eno uro sm ga pisala ....*)\n",
    "\n",
    "(* Prava: *)\n",
    "let duplicate =\n",
    "  Machine.make \"desno\" [\"poisci_zacetek\"; \"najdi_znak\"; \"nesi_dve_0\"; \"nesi_eno_0\";\n",
    "   \"nesi_dve_1\"; \"nesi_eno_1\"; \"done\"]\n",
    "  |> for_state \"desno\" [\n",
    "    for_characters \"01\" @@ move Right;\n",
    "    for_character ' ' @@ write_switch_and_move 'M' \"poisci_zacetek\" Left\n",
    "  ]\n",
    "  |> for_state \"poisci_zacetek\" [\n",
    "    for_characters \"01M\" @@ move Left;\n",
    "    for_character ' ' @@ switch_and_move \"najdi_znak\" Right\n",
    "  ]\n",
    "  |> for_state \"najdi_znak\" [\n",
    "    for_character '0' @@ write_switch_and_move ' ' \"nesi_dve_0\" Right;\n",
    "    for_character '1' @@ write_switch_and_move ' ' \"nesi_dve_1\" Right;\n",
    "    for_character 'M' @@ write_switch_and_move ' ' \"done\" Right;\n",
    "  ]\n",
    "  |> for_state \"nesi_dve_0\" [\n",
    "    for_characters \"01M\" @@ move Right;\n",
    "    for_character ' ' @@ write_switch_and_move '0' \"nesi_eno_0\" Right\n",
    "  ]\n",
    "  |> for_state \"nesi_eno_0\" [\n",
    "    for_character ' ' @@ write_switch_and_move '0' \"poisci_zacetek\" Left\n",
    "  ]\n",
    "  |> for_state \"nesi_dve_1\" [\n",
    "    for_characters \"01M\" @@ move Right;\n",
    "    for_character ' ' @@ write_switch_and_move '1' \"nesi_eno_1\" Right\n",
    "  ]\n",
    "  |> for_state \"nesi_eno_1\" [\n",
    "    for_character ' ' @@ write_switch_and_move '1' \"poisci_zacetek\" Left\n",
    "  ]"
   ]
  },
  {
   "cell_type": "markdown",
   "metadata": {},
   "source": [
    "# Derganc:\n",
    "Mi je reku, da ta začeten seznam ma zato, da ve, kok velko matriko bo mogu narest. In je neki z matrikami to iskanje in to.\n",
    "Kar se sliš zlo kul. In tud neki, kar so dejansko pogruntal. Pač zelo zanimivo."
   ]
  },
  {
   "cell_type": "markdown",
   "metadata": {},
   "source": [
    "# Moj DN s komentarji:"
   ]
  },
  {
   "cell_type": "code",
   "execution_count": null,
   "metadata": {
    "vscode": {
     "languageId": "ocaml"
    }
   },
   "outputs": [],
   "source": [
    "(*----------------------------------------------------------------------------*\n",
    " # 4. domača naloga\n",
    "[*----------------------------------------------------------------------------*)\n",
    "\n",
    "(*----------------------------------------------------------------------------*\n",
    " Pri tej nalogi boste napisali svoj simulator Turingovih strojev. Zaradi\n",
    " preprostosti bomo za abecedo vzeli kar znake tipa `char`, za prazni znak bomo\n",
    " izbrali presledek `' '`, stanja pa bomo predstavili z nizi. Za možne premike\n",
    " zafiksiramo tip `direction`:\n",
    "[*----------------------------------------------------------------------------*)\n",
    "\n",
    "type direction = Left | Right\n",
    "type state = string\n",
    "\n",
    "(*----------------------------------------------------------------------------*\n",
    " ## Implementacija trakov\n",
    "[*----------------------------------------------------------------------------*)\n",
    "\n",
    "(*----------------------------------------------------------------------------*\n",
    " Napišite modul `Tape`, ki implementira spodnjo signaturo, kjer je:\n",
    "\n",
    " - `t` tip v obe smeri neomejenih trakov in glavo na danem mestu;\n",
    " - `make`, ki naredi nov trak z znaki iz niza ter glavo na prvem znaku;\n",
    " - `print`, ki izpiše vsebino traku (brez presledkov na začetku in koncu) ter\n",
    " pod njim z `^` označi mesto glave;\n",
    " - `read`, ki vrne znak pod glavo;\n",
    " - `write`, ki pod glavo zapiše dani znak;\n",
    " - `move`, ki glavo premakne v dano smer.\n",
    "\n",
    " Zadnji dve funkciji naj vrneta nov trak, obstoječega pa naj pustita\n",
    " nespremenjenega.\n",
    "\n",
    " Ker je tip `t` abstrakten, si lahko privoščite poljubno implementacijo, zato\n",
    " poskrbite tako za učinkovitost kot za preglednost kode.\n",
    "[*----------------------------------------------------------------------------*)\n",
    "\n",
    " module type TAPE = sig\n",
    "  type t\n",
    "  (* type t = { levi : char list; glava : char; desni: char list} *)\n",
    "  (* A je to legalna poteza. Prej je blo sam type t.\n",
    "  VPRAŠANJE!!!!! Ja, ni splošen. Ampak sori teb? \n",
    "  Grem probat še to spremenit? *)\n",
    "\n",
    "  val make : string -> t\n",
    "  val print : t -> unit\n",
    "  val read : t -> char\n",
    "  val move : direction -> t -> t\n",
    "  val write : char -> t -> t\n",
    "  val glava : t -> char (* ?!?!?!?!?*) (* *Js sm idiot, točno to je read.*)\n",
    "end\n",
    "\n",
    "module Tape : TAPE = struct\n",
    "  (* type t = Trak of char list * char * char list *)\n",
    "  (* Če sem prav razumela, je zapisni tip itak immutable in je vseen.\n",
    "  Razmisli, a vseeno zamenjam na zapisni tip, če bodo zaradi tega lepše funkcije.\n",
    "  POPRAVI !*)\n",
    "  type t = { levi : char list; glava : char; desni: char list}\n",
    "\n",
    "  (*let char_list_to_string cl = String.concat \"\" (List.map (String.make 1) cl)*)\n",
    "  (*Če bom še rabla to funkcijo, sem dala ven*)\n",
    "  (* Pozab, to ma neko biggest loser slovenia casovno zahtevnost pomoje.*)\n",
    "  let string_to_char_list niz = List.init (String.length niz) (String.get niz)\n",
    "  (*Če bom rabla, dam ven iz make, pa mam kle*)\n",
    "  (* A raj to nardim na roke, da je zihr O(n), sam sej te implementirane menda niso glupe?*)\n",
    "\n",
    "  let make niz =\n",
    "    let char_list = List.init (String.length niz) (String.get niz) in\n",
    "    match char_list with\n",
    "    | [] -> {levi = []; glava = ' '; desni = []}\n",
    "    | x :: xs -> {levi = []; glava = x; desni = xs}\n",
    "\n",
    "  let print {levi; glava; desni} = \n",
    "    let obrni_ltrim_prestej_levi levi_char_list = \n",
    "      let rec aux_ltrim_in_prestej i flag acc sez =\n",
    "        match flag, sez with\n",
    "        | _, [] -> i, List.rev acc\n",
    "        | false, x :: xs when x = ' ' -> aux_ltrim_in_prestej 0 false [] xs\n",
    "        | false, x :: xs -> aux_ltrim_in_prestej (i + 1) true (x :: acc) xs\n",
    "        | true, x :: xs -> aux_ltrim_in_prestej (i + 1) true (x :: acc) xs\n",
    "      in\n",
    "      List.rev levi_char_list \n",
    "      |> aux_ltrim_in_prestej 0 false []\n",
    "    in \n",
    "    (* Vrne levi seznam pripravljen za print in njegovo dolžino. *)\n",
    "    let rec print_char_list = function \n",
    "      | [] -> ()\n",
    "      | c :: cs -> Printf.printf \"%c\" c ; print_char_list cs\n",
    "    in\n",
    "    let dolzina, levi_za_print = obrni_ltrim_prestej_levi levi in\n",
    "    print_char_list levi_za_print; \n",
    "    (* Sprintan je levi del traku. *)\n",
    "    Printf.printf \"%c\" glava;\n",
    "    (* Sprintana je glava. *)\n",
    "    let print_desni desni_char_list =\n",
    "      let rec aux_printd_in_iskanje_konca stevec_presledkov sez = (* Sej v pomožnem so samo presledki!*)\n",
    "        match sez with\n",
    "        | [] -> ()\n",
    "        | x :: xs when x = ' ' -> aux_printd_in_iskanje_konca (stevec_presledkov + 1) xs (* Če je presledek, prešteje, kok jih mora natisnt. *)\n",
    "        (* To ma bs časovno zahtevnost, naredi raje seznam, al kaj. *)\n",
    "        | x :: xs -> (\n",
    "          for i=1 to stevec_presledkov do\n",
    "            Printf.printf \"%c\" ' '\n",
    "          done;\n",
    "          Printf.printf \"%c\" x ; \n",
    "          aux_printd_in_iskanje_konca 0 xs (*Torej znak, če smo vmes shranjeval presledke, jih zdele še naprintamo*)\n",
    "        )\n",
    "      in\n",
    "      aux_printd_in_iskanje_konca 0 desni_char_list\n",
    "    in\n",
    "    print_desni desni;\n",
    "    (* Sprintan je desni del traku. *)\n",
    "    Printf.printf \"%s\" \"\\n\";\n",
    "    for i=1 to dolzina do\n",
    "      Printf.printf \"%c\" ' '\n",
    "    done;\n",
    "    Printf.printf \"%s\" \"^\\n\"\n",
    "    (* Sprintana je druga vrsta. *)\n",
    "\n",
    "  let read {glava; _} = glava\n",
    "\n",
    "  let move dir trak = \n",
    "    match dir with\n",
    "    | Left -> (\n",
    "      match trak.levi with\n",
    "      | [] -> { levi = []; glava = ' '; desni = trak.glava :: trak.desni }\n",
    "      | x :: xs -> { levi = xs; glava = x; desni = trak.glava :: trak.desni }\n",
    "    )\n",
    "    | Right -> (\n",
    "      match trak.desni with\n",
    "      | [] -> { levi = trak.glava :: trak.levi; glava = ' '; desni = [] }\n",
    "      | x :: xs -> { levi = trak.glava :: trak.levi; glava = x; desni = xs }\n",
    "    )\n",
    "  let write c trak = {trak with glava = c } \n",
    "\n",
    "  let glava {glava} = glava\n",
    "\n",
    "end\n",
    "\n",
    "let primer_trak = Tape.(\n",
    "  make \"ABCDE\"\n",
    "  |> move Left\n",
    "  |> move Left\n",
    "  |> move Right\n",
    "  |> move Right\n",
    "  |> move Right\n",
    "  |> move Right\n",
    "  |> write '!'\n",
    "  |> print\n",
    ")\n",
    "(*\n",
    "AB!DE\n",
    "  ^\n",
    "*)\n",
    "(* val primer_trak : unit = () *)\n",
    "\n",
    "(*----------------------------------------------------------------------------*\n",
    " ## Implementacija Turingovih strojev\n",
    "[*----------------------------------------------------------------------------*)\n",
    "\n",
    "(*----------------------------------------------------------------------------*\n",
    " Napišite modul `Machine`, ki implementira spodnjo signaturo, kjer je:\n",
    "\n",
    " - `t` tip Turingovih strojev;\n",
    " - `make`, ki naredi nov stroj z danim začetnim stanjem in seznamom preostalih\n",
    " stanj ter prazno prehodno funkcijo;\n",
    " - `initial`, ki vrne začetno stanje stroja;\n",
    " - `add_transition`, ki prehodno funkcijo razširi s prehodom $(q, a) \\mapsto\n",
    " (q', a', d)$;\n",
    " - `step`, ki za dano stanje in trak izvede en korak stroja, če je to mogoče.\n",
    "\n",
    " Zadnji dve funkciji naj vrneta spremenjene vrednosti, obstoječe argumente pa\n",
    " naj pustita nespremenjene. Prav tako pri zadnjih dveh funkcijah lahko\n",
    " predpostavite, da ju bomo klicali le na poprej podanih stanjih.\n",
    "\n",
    " Tudi tu je tip `t` abstrakten, zato poskrbite za učinkovitost in preglednost\n",
    " kode.\n",
    "[*----------------------------------------------------------------------------*)\n",
    "\n",
    "module type SLOVAR = sig\n",
    "  type ('a, 'b) t\n",
    "\n",
    "  val vsebuje : ('a, 'b) t -> 'a -> bool\n",
    "  val prazen : ('a, 'b) t\n",
    "  val velikost : ('a, 'b) t -> int\n",
    "  val najdi : 'a -> ('a, 'b) t -> 'b option\n",
    "  val dodaj : 'a -> 'b -> ('a, 'b) t -> ('a, 'b) t\n",
    "end\n",
    "\n",
    "module SlovarPrehodov : SLOVAR = struct\n",
    "  (* Konstrukcija skopirana s predavanj. *)\n",
    "  type ('a, 'b) t = Prazno | Sestavljeno of int * ('a, 'b) t * ('a * 'b) * ('a, 'b) t\n",
    "\n",
    "  let rec vsebuje mn kljuc = (* A ubistvu jaz hočem sam ključe matchat ane? vrednosti se pa sam zraven nosjo (?!!?!?!?)*)\n",
    "    match mn with\n",
    "    | Prazno -> false\n",
    "    | Sestavljeno (_, l, (k, v), d) ->\n",
    "      if kljuc < k then vsebuje l kljuc\n",
    "      else if kljuc > k then vsebuje d kljuc\n",
    "      else true\n",
    "\n",
    "  let prazen = Prazno\n",
    "\n",
    "  let rec velikost = function\n",
    "    | Prazno -> 0\n",
    "    | Sestavljeno (_, l, _, d) -> 1 + velikost l + velikost d\n",
    "\n",
    "  let visina drevo =\n",
    "    match drevo with\n",
    "    | Prazno -> 0\n",
    "    | Sestavljeno (h, _, _, _) -> h\n",
    "\n",
    "  let sestavljeno (l, x, d) =\n",
    "    Sestavljeno (1 + max (visina l) (visina d), l, x, d)\n",
    "\n",
    "  let zavrti_levo = function\n",
    "    | Sestavljeno (_, l, x, Sestavljeno (_, dl, y, dd)) ->\n",
    "        sestavljeno (sestavljeno (l, x, dl), y, dd)\n",
    "    | _ -> failwith \"Tega drevesa ne morem zavrteti\"\n",
    "\n",
    "  let zavrti_desno = function\n",
    "    | Sestavljeno (_, Sestavljeno (_, ll, y, ld), x, d) ->\n",
    "        sestavljeno (ll, y, sestavljeno (ld, x, d))\n",
    "    | _ -> failwith \"Tega drevesa ne morem zavrteti\"\n",
    "\n",
    "  let razlika = function\n",
    "    | Prazno -> 0\n",
    "    | Sestavljeno (_, l, _, d) -> visina l - visina d\n",
    "\n",
    "  let uravnotezi drevo =\n",
    "    match drevo with\n",
    "    | Sestavljeno (_, l, x, d) when razlika drevo = 2 && razlika l = 1 ->\n",
    "        zavrti_desno drevo\n",
    "    | Sestavljeno (_, l, x, d) when razlika drevo = 2 ->\n",
    "        sestavljeno (zavrti_levo l, x, d) |> zavrti_desno\n",
    "    | Sestavljeno (_, l, x, d) when razlika drevo = -2 && razlika d = -1 ->\n",
    "        zavrti_levo drevo\n",
    "    | Sestavljeno (_, l, x, d) when razlika drevo = -2 ->\n",
    "        sestavljeno (l, x, zavrti_desno d) |> zavrti_levo\n",
    "    | _ -> drevo\n",
    "\n",
    "  let rec dodaj kljuc vrednost drevo =\n",
    "    match drevo with\n",
    "    | Prazno -> Sestavljeno (1, Prazno, (kljuc, vrednost), Prazno)\n",
    "    | Sestavljeno (h, l, (k, v), d) ->\n",
    "        if kljuc < k then sestavljeno (dodaj kljuc vrednost l, (k, v), d) |> uravnotezi\n",
    "        else if kljuc > k then\n",
    "          sestavljeno (l, (k, v), dodaj kljuc vrednost d) |> uravnotezi\n",
    "        else Sestavljeno (h, l, (kljuc, vrednost), d) (* Nova overwrite-a. *)\n",
    "  \n",
    "  let rec najdi kljuc drevo =\n",
    "    match drevo with\n",
    "    | Prazno -> None\n",
    "    | Sestavljeno (_, l, (k, v), d) ->\n",
    "        if kljuc = k then Some v\n",
    "        else if kljuc > k then najdi kljuc d\n",
    "        else najdi kljuc l\n",
    "end\n",
    "\n",
    "\n",
    "\n",
    "module type MACHINE = sig\n",
    "  type t\n",
    "  (* type t = {\n",
    "    simboli : char list;\n",
    "    prazni_simbol : char;\n",
    "    stanja : state list;\n",
    "    zacetno_stanje : state;\n",
    "    prehodna_funkcija : (state * char, state * char * direction) SlovarPrehodov.t;\n",
    "  } A morm tud kle to narest (prej je blo sam type t?) *)\n",
    "\n",
    "  val make : state -> state list -> t\n",
    "  val initial : t -> state\n",
    "  val add_transition : state -> char -> state -> char -> direction -> t -> t\n",
    "  val step : t -> state -> Tape.t -> (state * Tape.t) option\n",
    "  (* VPRAŠANJE, ali lahko dodamo to sem ? Oziroma, kako drugače rešit to??*)\n",
    "  val zacetno_stanje : t -> state (* A LAHKO ?!?!?!?*)\n",
    "  (* Js. sm. Totaln. Idiot. To že je kle lol.*)\n",
    "end\n",
    "\n",
    "module Machine : MACHINE = struct\n",
    "\n",
    "  type t = {\n",
    "    simboli : char list; (*KAJ JE KLELE?!!!!!!!!!!!!!!!!!!!!!!!!!!!!!!!?!?!*)\n",
    "    prazni_simbol : char;\n",
    "    stanja : state list; (* A to je, da skos vemo, v kerem stanju smo ?*) (* KAJ JE KLELELELEL?!?!??!*)\n",
    "    zacetno_stanje : state;\n",
    "    prehodna_funkcija : (state * char, state * char * direction) SlovarPrehodov.t; (*?!?!?!?!?!!!! *)\n",
    "  }\n",
    "\n",
    "  let make zacetno_stanje stanja = \n",
    "    { simboli = []; prazni_simbol = ' '; stanja; zacetno_stanje; prehodna_funkcija = SlovarPrehodov.prazen }\n",
    "  \n",
    "  let initial {zacetno_stanje; _ } = zacetno_stanje\n",
    "\n",
    "  let add_transition stanje1 char1 stanje2 char2 dir ts = \n",
    "    { ts with prehodna_funkcija = SlovarPrehodov.dodaj (stanje1, char1) (stanje2, char2, dir) ts.prehodna_funkcija }\n",
    "\n",
    "  let step { prehodna_funkcija } (stanje: state) (trak: Tape.t) = \n",
    "    let navodilo = SlovarPrehodov.najdi (stanje, Tape.glava trak) prehodna_funkcija in (*Prej kle, trak.glava*)\n",
    "    match navodilo with\n",
    "    | None -> None (*failwith \"Nedefinirano\" (* Al kaj? *)*)\n",
    "    | Some (st, c, dir) ->\n",
    "      let novi_trak = Tape.write c trak |> Tape.move dir in\n",
    "      Some (st, novi_trak) \n",
    "    \n",
    "    (* KAKO JE TO MIŠLJENO?! KAJ MARKIRA KJE SI?!?!*)\n",
    "    (* let korak = SlovarPrehodov.najdi stanje *)\n",
    "  (* `step`, ki za dano stanje in trak izvede en korak stroja, če je to mogoče. *)\n",
    "  (* A to pol vrne novo stanje al kaaaaj nardi ??!?!?!?!?!*)\n",
    "  \n",
    "  let zacetno_stanje {zacetno_stanje} = zacetno_stanje\n",
    "\n",
    "end\n",
    "\n",
    "(*----------------------------------------------------------------------------*\n",
    " Primer stroja \"Binary Increment\" na <http://turingmachine.io> lahko\n",
    " implementiramo kot:\n",
    "[*----------------------------------------------------------------------------*)\n",
    "\n",
    "let binary_increment =\n",
    "  Machine.(\n",
    "    make \"right\" [ \"carry\"; \"done\" ]\n",
    "    |> add_transition \"right\" '1' \"right\" '1' Right\n",
    "    |> add_transition \"right\" '0' \"right\" '0' Right\n",
    "    |> add_transition \"right\" ' ' \"carry\" ' ' Left\n",
    "    |> add_transition \"carry\" '1' \"carry\" '0' Left\n",
    "    |> add_transition \"carry\" '0' \"done\" '1' Left\n",
    "    |> add_transition \"carry\" ' ' \"done\" '1' Left\n",
    "  )\n",
    "\n",
    "(* val binary_increment : Machine.t = <abstr> *)\n",
    "\n",
    "(*----------------------------------------------------------------------------*\n",
    " Zapišite funkciji `slow_run` in `speed_run` tipa `Machine.t -> str -> unit`, ki\n",
    " simulirata Turingov stroj na traku, na katerem je na začetku zapisan dani niz.\n",
    " Prva naj izpiše trakove in stanja pri vseh vmesnih korakih, druga pa naj izpiše\n",
    " le končni trak. Slednjo bomo uporabljali tudi pri meritvi učinkovitosti\n",
    " izvajanja.\n",
    "[*----------------------------------------------------------------------------*)\n",
    "\n",
    "let slow_run (ts : Machine.t) niz = \n",
    "  (* Seprav kle nakonc done-a ni več v slovarju funkcij in se ustav, ker je bil None vrnjen ? *)\n",
    "  let trak = ref (Tape.make niz) in\n",
    "  Tape.print !trak;\n",
    "  Printf.printf \"%s\\n\" (Machine.zacetno_stanje ts); (* ??????????!!!!!!!!!!!!!! kaj je boljš?!*)\n",
    "  let quit_loop = ref false in\n",
    "  let stanje = ref (Machine.zacetno_stanje ts) in\n",
    "  while not !quit_loop do\n",
    "    match (Machine.step ts !stanje !trak) with\n",
    "    | None -> quit_loop := true\n",
    "    | Some (novo_stanje, novi_trak) ->\n",
    "      Tape.print novi_trak;\n",
    "      Printf.printf \"%s\\n\" novo_stanje;\n",
    "      stanje := novo_stanje;\n",
    "      trak := novi_trak\n",
    "    done\n",
    "\n",
    "\n",
    "let primer_slow_run =\n",
    "  slow_run binary_increment \"1011\"\n",
    "(*\n",
    "1011\n",
    "^\n",
    "right\n",
    "1011\n",
    "  ^\n",
    "right\n",
    "1011\n",
    "  ^\n",
    "right\n",
    "1011\n",
    "    ^\n",
    "right\n",
    "1011\n",
    "    ^\n",
    "right\n",
    "1011\n",
    "    ^\n",
    "carry\n",
    "1010\n",
    "  ^\n",
    "carry\n",
    "1000\n",
    "  ^\n",
    "carry\n",
    "1100\n",
    "^\n",
    "done\n",
    "*)\n",
    "(* val primer_slow_run : unit = () *)\n",
    "\n",
    "let speed_run (ts: Machine.t) niz =\n",
    "  (* Zdej pa js nevem, a se loh trak spreminja al se ne sme in kaj to sploh pomen?\n",
    "  V smislu, kle je referenca in pol gre ?\n",
    "  Sam samga traku se pa nobenga ne da sprement?\n",
    "  ?????????????!!!!!!!!!!!!!*)\n",
    "  (* Drgač pač sam z rekurzijo napišemo, ampak itak nč ne profitiramo,\n",
    "  ker do unih itak ne dostopaš? Nikol več, ker ne morš. ? *)\n",
    "  let trak = ref (Tape.make niz) in\n",
    "  let quit_loop = ref false in\n",
    "  let stanje = ref (Machine.zacetno_stanje ts) in\n",
    "  while not !quit_loop do\n",
    "    match (Machine.step ts !stanje !trak) with\n",
    "    | None -> \n",
    "      Tape.print !trak;\n",
    "      quit_loop := true\n",
    "    | Some (novo_stanje, novi_trak) ->\n",
    "      stanje := novo_stanje;\n",
    "      trak := novi_trak\n",
    "    done\n",
    "\n",
    "\n",
    "let primer_speed_run =\n",
    "  speed_run binary_increment \"1011\"\n",
    "(*\n",
    "1100\n",
    "^\n",
    "*)\n",
    "(* val primer_speed_run : unit = () *)\n",
    "\n",
    "(*----------------------------------------------------------------------------*\n",
    " ## Krajši zapis\n",
    "[*----------------------------------------------------------------------------*)\n",
    "\n",
    "(*----------------------------------------------------------------------------*\n",
    " Ko definiramo Turingov stroj, prehode običajno združujemo najprej po stanjih,\n",
    " nato pa še po znakih. Prav tako pri dosti prehodih samo premikamo glavo, trak\n",
    " in stanje pa pustimo pri miru. Zapišite funkcije:\n",
    "\n",
    " - `for_state`\n",
    " - `for_character`\n",
    " - `for_characters`\n",
    " - `move`\n",
    " - `switch_and_move`\n",
    " - `write_and_move`\n",
    " - `write_switch_and_move`\n",
    "\n",
    " s katerimi bi lahko zgornji primer na krajše zapisali kot spodaj.\n",
    " Implementacijo in tipe ugotovite sami.\n",
    "[*----------------------------------------------------------------------------*)\n",
    "\n",
    "let for_state stanje1 sez machine =\n",
    "  let ts = ref machine in\n",
    "  let rec list_aux = function\n",
    "    | [] -> ()\n",
    "    | l :: ls -> (\n",
    "      let quit_loop = ref false in\n",
    "      let l1 = ref l in\n",
    "      while not !quit_loop do\n",
    "        match !l1 with\n",
    "        | [] -> quit_loop := true\n",
    "        | nabor :: nabori -> (\n",
    "          let char1, stanje2_opt, char2, dir = nabor in\n",
    "          let stanje2 = ref \"\" in\n",
    "          if Option.is_some stanje2_opt then stanje2 := Option.get stanje2_opt \n",
    "          else stanje2 := stanje1;\n",
    "          ts := Machine.add_transition stanje1 char1 !stanje2 char2 dir (!ts);\n",
    "          l1 := nabori\n",
    "        )\n",
    "      done;\n",
    "      list_aux ls\n",
    "      )\n",
    "  in\n",
    "  list_aux sez;\n",
    "  !ts\n",
    "\n",
    "let for_character char st_ch_dir_nabor =\n",
    "  let state2, char_opt, dir = st_ch_dir_nabor in\n",
    "  if Option.is_none char_opt then [(char, state2, char, dir)]\n",
    "  else [(char, state2, Option.get char_opt, dir)]\n",
    "\n",
    "let for_characters niz st_ch_dir_nabor =\n",
    "  let state2, char_opt, dir = st_ch_dir_nabor in\n",
    "  let char_some = ref false in\n",
    "  if Option.is_some char_opt then char_some := true else char_some := false;\n",
    "  let dolzina = String.length niz in\n",
    "  let rec aux acc indeks = \n",
    "    match indeks with\n",
    "    | i when i = dolzina -> acc\n",
    "    | i -> \n",
    "      if !char_some then aux ((niz.[i], state2, Option.get char_opt, dir) :: acc) (i+1)\n",
    "      else aux ((niz.[i], state2, niz.[i], dir) :: acc) (i+1)\n",
    "  in\n",
    "  aux [] 0 \n",
    "  \n",
    "let move dir = (None, None, dir)\n",
    "let switch_and_move stanje2 dir = (Some stanje2, None, dir)\n",
    "let write_and_move char2 dir = (None, Some char2, dir)\n",
    "let write_switch_and_move char2 stanje2 dir = (Some stanje2, Some char2, dir)\n",
    "\n",
    "\n",
    "\n",
    "let binary_increment' =\n",
    "  Machine.make \"right\" [\"carry\"; \"done\"]\n",
    "  |> for_state \"right\" [\n",
    "    for_characters \"01\" @@ move Right;\n",
    "    for_character ' ' @@ switch_and_move \"carry\" Left\n",
    "  ]\n",
    "  |> for_state \"carry\" [\n",
    "    for_character '1' @@ write_and_move '0' Left;\n",
    "    for_characters \"0 \" @@ write_switch_and_move '1' \"done\" Left\n",
    "  ]  \n",
    "(* val binary_increment' : Machine.t = <abstr> *)\n",
    "\n",
    "(* A TO POMEN, DA ONI HOČJO, DA JE Machine.t abstrakten, AL\n",
    "DA PAČ NE POKAŽEJO, KAKŠN TIP NEJ BO? K DRGAČ NE MORM DO PREHODNE\n",
    "DOSTOPAT ?! SEJ A KJE RES RABM?\n",
    "Ker ostalo je neuporabno.\n",
    "Aja ne. Lih to. Začetno stanje rabm! ????????!!!!!!!!!\n",
    "Rešitev 1: ali lahko dodamo v signaturo stvari? Kok ilegalno je to?\n",
    "Itak neki smo že. Ampak men je lepš, da je Machine abstract type\n",
    "pa mamo evaluator začetnega stanja posebi.\n",
    "?!?!?!??!?!?!?!?!?!?!?!?!?!??!?!?!?!? \n",
    "In tud, kaj s trakom*)\n",
    "\n",
    "(*----------------------------------------------------------------------------*\n",
    " ## Primeri Turingovih strojev\n",
    "[*----------------------------------------------------------------------------*)\n",
    "\n",
    "(*----------------------------------------------------------------------------*\n",
    " Pri tej nalogi boste sestavljali stroje, ki bodo iz začetnega niza na traku na\n",
    " različne načine izračunali nov niz. Pri tem lahko predpostavite, da je začetni\n",
    " niz sestavljen iz ničel in enic, preostanek traku pa je prazen. Na koncu\n",
    " izvajanja naj bo glava na začetku novega niza, z izjemo tega niza pa naj bo\n",
    " trak prazen. Ni pa treba, da se izračunani niz začne na istem mestu na traku,\n",
    " kot se je začel prvotni niz.\n",
    "[*----------------------------------------------------------------------------*)\n",
    "\n",
    "(*----------------------------------------------------------------------------*\n",
    " ### Obračanje niza\n",
    "[*----------------------------------------------------------------------------*)\n",
    "\n",
    "(*----------------------------------------------------------------------------*\n",
    " Sestavite Turingov stroj, ki začetni niz obrne na glavo.\n",
    "[*----------------------------------------------------------------------------*)\n",
    "\n",
    "(* let binary_increment' =\n",
    "  Machine.make \"right\" [\"carry\"; \"done\"]\n",
    "  |> for_state \"right\" [\n",
    "    for_characters \"01\" @@ move Right;\n",
    "    for_character ' ' @@ switch_and_move \"carry\" Left\n",
    "  ]\n",
    "  |> for_state \"carry\" [\n",
    "    for_character '1' @@ write_and_move '0' Left;\n",
    "    for_characters \"0 \" @@ write_switch_and_move '1' \"done\" Left\n",
    "  ]   *)\n",
    "let reverse = \n",
    "  Machine.make \"desno\" [\"isci_levo\"; \"nesi0\"; \"nesi1\"; \"poisciM\"; \"brisanje_in_done\"]\n",
    "  |> for_state \"desno\" [\n",
    "    for_characters \"01\" @@ move Right;\n",
    "    for_character ' ' @@ write_switch_and_move 'M' \"isci_levo\" Left\n",
    "  ]\n",
    "  |> for_state \"isci_levo\" [\n",
    "    for_character 'M' @@ move Left;\n",
    "    for_character '0' @@ write_switch_and_move 'M' \"nesi0\" Right;\n",
    "    for_character '1' @@ write_switch_and_move 'M' \"nesi1\" Right;\n",
    "    for_character ' ' @@ switch_and_move \"brisanje_in_done\" Right\n",
    "  ]\n",
    "  |> for_state \"nesi0\" [\n",
    "    for_characters \"M01\" @@ move Right;\n",
    "    for_character ' ' @@ write_switch_and_move '0' \"poisciM\" Left;\n",
    "  ]\n",
    "  |> for_state \"nesi1\" [\n",
    "    for_characters \"M01\" @@ move Right;\n",
    "    for_character ' ' @@ write_switch_and_move '1' \"poisciM\" Left;\n",
    "  ]\n",
    "  |> for_state \"poisciM\" [\n",
    "    for_characters \"01\" @@ move Left;\n",
    "    for_character 'M' @@ switch_and_move \"isci_levo\" Left\n",
    "  ]\n",
    "  |> for_state \"brisanje_in_done\" [\n",
    "    for_character 'M' @@ write_and_move ' ' Right;\n",
    "    (* for_characters \"01\" je pa done *)\n",
    "  ]\n",
    "\n",
    "(* let primer_reverse = speed_run reverse \"0000111001\" *)\n",
    "(* \n",
    "1001110000          \n",
    "^\n",
    "*)\n",
    "(* val primer_reverse : unit = () *)\n",
    "\n",
    "(*----------------------------------------------------------------------------*\n",
    " ### Podvajanje niza\n",
    "[*----------------------------------------------------------------------------*)\n",
    "\n",
    "(*----------------------------------------------------------------------------*\n",
    " Sestavite Turingov stroj, ki podvoji začetni niz.\n",
    "[*----------------------------------------------------------------------------*)\n",
    "\n",
    "let duplicate_niz = \n",
    "  Machine.make \"posci_konec\" [\"poisci_zacetek\"; \"prepisi_znak\"; \"0naM\"; \"1naM\";\n",
    "    \"nesi0\"; \"nesi1\"; \"najdiM\"; \"poisci_znak\"; \"0naN\"; \"1naN\"; \"brisanje_in_konec\"]\n",
    "  |> for_state \"posci_konec\" [\n",
    "    for_characters \"01\" @@ move Right;\n",
    "    for_character ' ' @@ write_switch_and_move 'N' \"poisci_zacetek\" Left;\n",
    "  ]\n",
    "  |> for_state \"poisci_zacetek\" [\n",
    "    for_characters \"01\" @@ move Left;\n",
    "    for_character ' ' @@ write_switch_and_move 'M' \"prepisi_znak\" Right\n",
    "  ]\n",
    "  |> for_state \"prepisi_znak\" [\n",
    "    for_character '0' @@ write_switch_and_move 'M' \"0naM\" Left;\n",
    "    for_character '1' @@ write_switch_and_move 'M' \"1naM\" Left; (*Ali še kej sem?*)\n",
    "    for_character 'N' @@ switch_and_move \"poisci_znak\" Left\n",
    "  ]\n",
    "  |> for_state \"0naM\" [\n",
    "    for_character 'M' @@ write_switch_and_move '0' \"nesi0\" Right\n",
    "  ]\n",
    "  |> for_state \"1naM\" [\n",
    "    for_character 'M' @@ write_switch_and_move '1' \"nesi1\" Right\n",
    "  ]\n",
    "  |> for_state \"nesi0\" [\n",
    "    for_characters \"01NM\" @@ move Right;\n",
    "    for_character ' ' @@ write_switch_and_move '0' \"najdiM\" Left\n",
    "  ]\n",
    "  |> for_state \"nesi1\" [\n",
    "    for_characters \"01NM\" @@ move Right;\n",
    "    for_character ' ' @@ write_switch_and_move '1' \"najdiM\" Left\n",
    "  ]\n",
    "  |> for_state \"najdiM\" [\n",
    "    for_characters \"01N\" @@ move Left;\n",
    "    for_character 'M' @@ switch_and_move \"prepisi_znak\" Right\n",
    "  ]\n",
    "  |> for_state \"poisci_znak\" [\n",
    "    for_characters \"NM\" @@ move Left;\n",
    "    for_character '0' @@ write_switch_and_move 'M' \"0naN\" Right;\n",
    "    for_character '1' @@ write_switch_and_move 'M' \"1naN\" Right;\n",
    "    for_character ' ' @@ switch_and_move \"brisanje_in_konec\" Right\n",
    "  ]\n",
    "  |> for_state \"0naN\" [\n",
    "    for_character 'M' @@ write_and_move 'N' Right;\n",
    "    for_character 'N' @@ write_switch_and_move '0' \"poisci_znak\" Left\n",
    "  ]\n",
    "  |> for_state \"1naN\" [\n",
    "    for_character 'M' @@ write_and_move 'N' Right;\n",
    "    for_character 'N' @@ write_switch_and_move '1' \"poisci_znak\" Left\n",
    "  ]\n",
    "  |> for_state \"brisanje_in_konec\" [\n",
    "    for_characters \"NM\" @@ write_and_move ' ' Right\n",
    "  ]\n",
    "(* joooj, ker sm js idiot. Ja, js sm podvojila cel niz. Mogla bi podvojit vsak znak.\n",
    "Looool. Pa dej no, eno uro sm ga pisala ....*)\n",
    "\n",
    "let duplicate =\n",
    "  Machine.make \"desno\" [\"poisci_zacetek\"; \"najdi_znak\"; \"nesi_dve_0\"; \"nesi_eno_0\";\n",
    "   \"nesi_dve_1\"; \"nesi_eno_1\"; \"done\"]\n",
    "  |> for_state \"desno\" [\n",
    "    for_characters \"01\" @@ move Right;\n",
    "    for_character ' ' @@ write_switch_and_move 'M' \"poisci_zacetek\" Left\n",
    "  ]\n",
    "  |> for_state \"poisci_zacetek\" [\n",
    "    for_characters \"01M\" @@ move Left;\n",
    "    for_character ' ' @@ switch_and_move \"najdi_znak\" Right\n",
    "  ]\n",
    "  |> for_state \"najdi_znak\" [\n",
    "    for_character '0' @@ write_switch_and_move ' ' \"nesi_dve_0\" Right;\n",
    "    for_character '1' @@ write_switch_and_move ' ' \"nesi_dve_1\" Right;\n",
    "    for_character 'M' @@ write_switch_and_move ' ' \"done\" Right;\n",
    "  ]\n",
    "  |> for_state \"nesi_dve_0\" [\n",
    "    for_characters \"01M\" @@ move Right;\n",
    "    for_character ' ' @@ write_switch_and_move '0' \"nesi_eno_0\" Right\n",
    "  ]\n",
    "  |> for_state \"nesi_eno_0\" [\n",
    "    for_character ' ' @@ write_switch_and_move '0' \"poisci_zacetek\" Left\n",
    "  ]\n",
    "  |> for_state \"nesi_dve_1\" [\n",
    "    for_characters \"01M\" @@ move Right;\n",
    "    for_character ' ' @@ write_switch_and_move '1' \"nesi_eno_1\" Right\n",
    "  ]\n",
    "  |> for_state \"nesi_eno_1\" [\n",
    "    for_character ' ' @@ write_switch_and_move '1' \"poisci_zacetek\" Left\n",
    "  ]\n",
    "  \n",
    "\n",
    "(* let primer_duplicate = speed_run duplicate \"010011\" *)\n",
    "(* \n",
    "001100001111       \n",
    "^\n",
    "*)\n",
    "(* val primer_duplicate : unit = () *)\n",
    "\n",
    "(*----------------------------------------------------------------------------*\n",
    " ### Eniški zapis\n",
    "[*----------------------------------------------------------------------------*)\n",
    "\n",
    "(*----------------------------------------------------------------------------*\n",
    " Sestavite Turingov stroj, ki na začetku na traku sprejme število $n$, zapisano\n",
    " v dvojiškem zapisu, na koncu pa naj bo na traku zapisanih natanko $n$ enic.\n",
    "[*----------------------------------------------------------------------------*)\n",
    "\n",
    "let to_unary = \n",
    "  Machine.make \"napisi_M\" [\"poisci_in_odstej_1\"; \"nicle_v_enke\"; \"zapisi_1\"; \"levo_na_M\";\n",
    "    \"brisanje\"; \"konec\"]\n",
    "  |> for_state \"napisi_M\" [\n",
    "    for_characters \"01\" @@ move Right;\n",
    "    for_character ' ' @@ write_switch_and_move 'M' \"poisci_in_odstej_1\" Left\n",
    "  ]\n",
    "  |> for_state \"poisci_in_odstej_1\" [\n",
    "    for_character '0' @@ move Left;\n",
    "    for_character ' ' @@ switch_and_move \"brisanje\" Right;\n",
    "    for_character '1' @@ write_switch_and_move '0' \"nicle_v_enke\" Right\n",
    "  ]\n",
    "  |> for_state \"nicle_v_enke\" [\n",
    "    for_character '0' @@ write_and_move '1' Right;\n",
    "    for_character 'M' @@ switch_and_move \"zapisi_1\" Right\n",
    "  ]\n",
    "  |> for_state \"zapisi_1\" [\n",
    "    for_character ' ' @@ write_switch_and_move '1' \"levo_na_M\" Left;\n",
    "    for_character '1' @@ move Right\n",
    "  ]\n",
    "  |> for_state \"levo_na_M\" [\n",
    "    for_character '1' @@ move Left;\n",
    "    for_character 'M' @@ switch_and_move \"poisci_in_odstej_1\" Left\n",
    "  ]\n",
    "  |> for_state \"brisanje\" [\n",
    "    for_character '0' @@ write_and_move ' ' Right;\n",
    "    for_character 'M' @@ write_switch_and_move ' ' \"konec\" Right\n",
    "  ]\n",
    "\n",
    "(* let primer_to_unary = speed_run to_unary \"1010\" *)\n",
    "(* \n",
    "1111111111\n",
    "^\n",
    "*)\n",
    "(* val primer_to_unary : unit = () *)\n",
    "\n",
    "(*----------------------------------------------------------------------------*\n",
    " ### Dvojiški zapis\n",
    "[*----------------------------------------------------------------------------*)\n",
    "\n",
    "(*----------------------------------------------------------------------------*\n",
    " Sestavite ravno obratni Turingov stroj, torej tak, ki na začetku na traku\n",
    " sprejme število $n$ enic, na koncu pa naj bo na traku zapisano število $n$ v\n",
    " dvojiškem zapisu.\n",
    "[*----------------------------------------------------------------------------*)\n",
    "\n",
    "let to_binary = \n",
    "  Machine.make \"zapisi_M\" [\"zapisi_prvo_0\"; \"desno_na_M\"; \"poisci_1\"; \"nazaj_na_M\";\n",
    "    \"pristej_dvojiski_1\"; \"brisanje_in_premik\"; \"konec\"]\n",
    "  |> for_state \"zapisi_M\" [\n",
    "    for_characters \"01\" @@ move Left;\n",
    "    for_character ' ' @@ write_switch_and_move 'M' \"zapisi_prvo_0\" Left\n",
    "  ]\n",
    "  |> for_state \"zapisi_prvo_0\" [\n",
    "    for_character ' ' @@ write_switch_and_move '0' \"desno_na_M\" Right\n",
    "  ]\n",
    "  |> for_state \"desno_na_M\" [\n",
    "    for_characters \" 01\" @@ move Right;\n",
    "    for_character 'M' @@ switch_and_move \"poisci_1\" Right\n",
    "  ]\n",
    "  |> for_state \"poisci_1\" [\n",
    "    for_characters \"MP\" @@ move Right;\n",
    "    for_character '1' @@ write_switch_and_move 'P' \"nazaj_na_M\" Left;\n",
    "    for_character ' ' @@ switch_and_move \"brisanje_in_premik\" Left\n",
    "  ]\n",
    "  |> for_state \"nazaj_na_M\" [\n",
    "    for_character 'P' @@ move Left;\n",
    "    for_character 'M' @@ switch_and_move \"pristej_dvojiski_1\" Left\n",
    "  ]\n",
    "  |> for_state \"pristej_dvojiski_1\" [\n",
    "    for_character '0' @@ write_switch_and_move '1' \"desno_na_M\" Left;\n",
    "    for_character '1' @@ write_and_move '0' Left;\n",
    "    for_character ' ' @@ write_switch_and_move '1' \"desno_na_M\" Right\n",
    "  ]\n",
    "  |> for_state \"brisanje_in_premik\" [\n",
    "    for_characters \"MP\" @@ write_and_move ' ' Left;\n",
    "    for_characters \"01\" @@ move Left;\n",
    "    for_character ' ' @@ switch_and_move \"konec\" Right\n",
    "  ]\n",
    "\n",
    "let primer_to_binary = speed_run to_binary (String.make 42 '1')\n",
    "(* \n",
    "101010                                           \n",
    "^\n",
    "*)\n",
    "(* val primer_to_binary : unit = () *)\n"
   ]
  },
  {
   "cell_type": "code",
   "execution_count": 2,
   "metadata": {
    "vscode": {
     "languageId": "ocaml"
    }
   },
   "outputs": [
    {
     "data": {
      "text/plain": [
       "val string_to_char_list' : string -> char list = <fun>\n"
      ]
     },
     "execution_count": 2,
     "metadata": {},
     "output_type": "execute_result"
    }
   ],
   "source": [
    "let string_to_char_list' niz =\n",
    "  let dolzina = String.length niz in\n",
    "  let rec aux acc i =\n",
    "    match i with\n",
    "    | i when i = dolzina -> List.rev acc\n",
    "    | i -> aux (niz.[i] :: acc) (i + 1)\n",
    "  in\n",
    "  aux [] 0"
   ]
  },
  {
   "cell_type": "code",
   "execution_count": 7,
   "metadata": {
    "vscode": {
     "languageId": "ocaml"
    }
   },
   "outputs": [
    {
     "data": {
      "text/plain": [
       "- : char list = []\n"
      ]
     },
     "execution_count": 7,
     "metadata": {},
     "output_type": "execute_result"
    }
   ],
   "source": [
    "string_to_char_list' \"\""
   ]
  },
  {
   "cell_type": "code",
   "execution_count": null,
   "metadata": {
    "vscode": {
     "languageId": "ocaml"
    }
   },
   "outputs": [],
   "source": [
    "(* Nisem prepričana v svojo učinkovitost tud zard tega, ker pomoje bi rabla nek mutable tip za trak. ... \n",
    "Ker če mora on to kej prepisvat, pol je vse brez veze. ... *)"
   ]
  }
 ],
 "metadata": {
  "kernelspec": {
   "display_name": "OCaml 4.14",
   "language": "OCaml",
   "name": "ocaml-jupyter"
  },
  "language_info": {
   "codemirror_mode": "text/x-ocaml",
   "file_extension": ".ml",
   "mimetype": "text/x-ocaml",
   "name": "OCaml",
   "nbconverter_exporter": null,
   "pygments_lexer": "OCaml",
   "version": "4.14.2"
  }
 },
 "nbformat": 4,
 "nbformat_minor": 2
}

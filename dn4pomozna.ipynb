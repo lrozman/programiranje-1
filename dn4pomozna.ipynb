{
 "cells": [
  {
   "cell_type": "code",
   "execution_count": 10,
   "metadata": {
    "vscode": {
     "languageId": "ocaml"
    }
   },
   "outputs": [
    {
     "data": {
      "text/plain": [
       "val char_list_to_string : char list -> string = <fun>\n"
      ]
     },
     "execution_count": 10,
     "metadata": {},
     "output_type": "execute_result"
    }
   ],
   "source": [
    "let char_list_to_string cl = String.concat \"\" (List.map (String.make 1) cl)"
   ]
  },
  {
   "cell_type": "code",
   "execution_count": 11,
   "metadata": {
    "vscode": {
     "languageId": "ocaml"
    }
   },
   "outputs": [
    {
     "data": {
      "text/plain": [
       "- : string = \" a \"\n"
      ]
     },
     "execution_count": 11,
     "metadata": {},
     "output_type": "execute_result"
    }
   ],
   "source": [
    "char_list_to_string [' '; 'a'; ' ';]"
   ]
  },
  {
   "cell_type": "code",
   "execution_count": 12,
   "metadata": {
    "vscode": {
     "languageId": "ocaml"
    }
   },
   "outputs": [
    {
     "data": {
      "text/plain": [
       "val string_to_char_list : string -> char list = <fun>\n"
      ]
     },
     "execution_count": 12,
     "metadata": {},
     "output_type": "execute_result"
    }
   ],
   "source": [
    "let string_to_char_list niz = List.init (String.length niz) (String.get niz)"
   ]
  },
  {
   "cell_type": "code",
   "execution_count": 13,
   "metadata": {
    "vscode": {
     "languageId": "ocaml"
    }
   },
   "outputs": [
    {
     "data": {
      "text/plain": [
       "- : char list = [' '; 'a'; 'b'; ' '; 'c']\n"
      ]
     },
     "execution_count": 13,
     "metadata": {},
     "output_type": "execute_result"
    }
   ],
   "source": [
    "string_to_char_list \" ab c\""
   ]
  },
  {
   "cell_type": "code",
   "execution_count": 14,
   "metadata": {
    "vscode": {
     "languageId": "ocaml"
    }
   },
   "outputs": [
    {
     "data": {
      "text/plain": [
       "- : string = \"abc\"\n"
      ]
     },
     "execution_count": 14,
     "metadata": {},
     "output_type": "execute_result"
    }
   ],
   "source": [
    "String.trim \"   abc    \""
   ]
  },
  {
   "cell_type": "code",
   "execution_count": 16,
   "metadata": {
    "vscode": {
     "languageId": "ocaml"
    }
   },
   "outputs": [
    {
     "data": {
      "text/plain": [
       "val trak1 : string = \"   abcDe  fg    h    \"\n"
      ]
     },
     "execution_count": 16,
     "metadata": {},
     "output_type": "execute_result"
    }
   ],
   "source": [
    "let trak1 = \"   abcDe  fg    h    \"\n",
    "(* Imam torej kao glavo na D. in mam en seznam, k je c b a prazen, in morm sam to nakonc porezat, pa obrnt.*)\n",
    "(* Lahko levga najprej obrnem, potem najdem find_index od prvega elementa, k ni prazen in pol nardim sub\n",
    "    Desn pa morm najt zadnga, da so od tam naprej sam še presledki ... nočm ga za brez veze obračat ...\n",
    "    Ker more bit kao učinkovito to vse skupi .... rabla bi sam en left/right trim ...\n",
    "    Okej pač enkrat se bom mogla čez sprehodt. Grem se probat sam enkrat.\n",
    "    Za ta desnga. Grem enkrat čez, da dobim indeks tazadnga k je blank z eno funkcijo in pol substring.\n",
    "    Grem torej dvakrat čez. Kar je bolš, kokr da dvakrat obrnem in enkrat iščem.\n",
    "    Za ta levga pa pač obrnem in grem do tam, kjer prvič je znak.\n",
    "    Kaj pa če mam desn seznam in grem čez, da najdem zadnjega praznega\n",
    "in potem še enkrat čez sam do unga indeksa z nekim mapi in hkrati nardim string.\n",
    "Pa a se pozna, da nardim tri stringe in jih concateniram skupi, kokr pa da dodajam na enga?\n",
    "Sej ne vem, kako stringi delujejo - a je sploh razlika?*)"
   ]
  },
  {
   "cell_type": "code",
   "execution_count": 17,
   "metadata": {
    "vscode": {
     "languageId": "ocaml"
    }
   },
   "outputs": [
    {
     "data": {
      "text/plain": [
       "- : string list =\n",
       "[\"\"; \"\"; \"\"; \"abcDe\"; \"\"; \"fg\"; \"\"; \"\"; \"\"; \"h\"; \"\"; \"\"; \"\"; \"\"]\n"
      ]
     },
     "execution_count": 17,
     "metadata": {},
     "output_type": "execute_result"
    }
   ],
   "source": [
    "String.split_on_char ' ' trak1"
   ]
  },
  {
   "cell_type": "code",
   "execution_count": 18,
   "metadata": {
    "vscode": {
     "languageId": "ocaml"
    }
   },
   "outputs": [
    {
     "data": {
      "text/plain": [
       "val pomozna_desni1 : char list -> int = <fun>\n"
      ]
     },
     "execution_count": 18,
     "metadata": {},
     "output_type": "execute_result"
    }
   ],
   "source": [
    "let pomozna_desni1 desni_char_list =\n",
    "  let rec aux i_konca i carry sez =\n",
    "    match carry, sez with\n",
    "    | _, [] -> i_konca (*če je praten, bo 0, bo prazen string nakonc*)\n",
    "    | true, x :: xs when x = ' ' -> aux i_konca (i + 1) true xs (* vrsta presledkov *)\n",
    "    | false, x :: xs when x = ' ' -> aux i (i + 1) true xs (*vidu prvi presledek po drugih znakih*)\n",
    "    | carry, x :: xs -> aux (i + 1) (i + 1) false xs (*kerkol drug znak pa izklop zastavco, pa ta znak mora bit v nizu, tkoda i + 1\n",
    "    ker bo šlo do ne-vključno. Torej raj nardim, da gre do vključno, in se poveča vsakič, k je neprazen znak.\n",
    "    Pa ne rabm zastavce ?*)\n",
    "  in\n",
    "  aux 0 0 false desni_char_list"
   ]
  },
  {
   "cell_type": "code",
   "execution_count": 19,
   "metadata": {
    "vscode": {
     "languageId": "ocaml"
    }
   },
   "outputs": [
    {
     "data": {
      "text/plain": [
       "- : int = 5\n"
      ]
     },
     "execution_count": 19,
     "metadata": {},
     "output_type": "execute_result"
    }
   ],
   "source": [
    "pomozna_desni1 (string_to_char_list \" ab c   \")"
   ]
  },
  {
   "cell_type": "code",
   "execution_count": 20,
   "metadata": {
    "vscode": {
     "languageId": "ocaml"
    }
   },
   "outputs": [
    {
     "data": {
      "text/plain": [
       "- : int = 0\n"
      ]
     },
     "execution_count": 20,
     "metadata": {},
     "output_type": "execute_result"
    }
   ],
   "source": [
    "pomozna_desni1 (string_to_char_list \" \")"
   ]
  },
  {
   "cell_type": "code",
   "execution_count": 21,
   "metadata": {
    "vscode": {
     "languageId": "ocaml"
    }
   },
   "outputs": [
    {
     "data": {
      "text/plain": [
       "val pomozna_desni2 : char list -> int = <fun>\n"
      ]
     },
     "execution_count": 21,
     "metadata": {},
     "output_type": "execute_result"
    }
   ],
   "source": [
    "let pomozna_desni2 desni_char_list =\n",
    "  let rec aux i_konca i sez =\n",
    "    match sez with\n",
    "    | [] -> i_konca (*če je praten, bo 0, bo prazen string nakonc*)\n",
    "    | x :: xs when x = ' ' -> aux i_konca (i + 1) xs (* vrsta presledkov *)\n",
    "    | x :: xs -> aux i (i + 1) xs (*kerkol drug znak pa izklop zastavco, pa ta znak mora bit v nizu, tkoda i + 1\n",
    "    ker bo šlo do ne-vključno. Torej raj nardim, da gre do vključno, in se poveča vsakič, k je neprazen znak.\n",
    "    Pa ne rabm zastavce ?*)\n",
    "  in\n",
    "  aux 0 0 desni_char_list"
   ]
  },
  {
   "cell_type": "code",
   "execution_count": 22,
   "metadata": {
    "vscode": {
     "languageId": "ocaml"
    }
   },
   "outputs": [
    {
     "data": {
      "text/plain": [
       "- : int = 0\n"
      ]
     },
     "execution_count": 22,
     "metadata": {},
     "output_type": "execute_result"
    }
   ],
   "source": [
    "pomozna_desni2 (string_to_char_list \"     \")"
   ]
  },
  {
   "cell_type": "code",
   "execution_count": 24,
   "metadata": {
    "vscode": {
     "languageId": "ocaml"
    }
   },
   "outputs": [
    {
     "name": "stderr",
     "output_type": "stream",
     "text": [
      "File \"[24]\", line 9, characters 6-15:\n",
      "9 |   let zberi_začetek_v_niz i_konca cl =\n",
      "          ^^^^^^^^^\n",
      "Alert deprecated: ISO-Latin1 characters in identifiers\n"
     ]
    },
    {
     "ename": "error",
     "evalue": "compile_error",
     "output_type": "error",
     "traceback": [
      "File \"[24]\", line 9, characters 15-16:\n9 |   let zberi_začetek_v_niz i_konca cl =\n                   ^\nError: Illegal character (\\141)\n"
     ]
    }
   ],
   "source": [
    "let pomozna_desni desni_char_list =\n",
    "  let rec aux_iskanje_konca i_konca i sez =\n",
    "    match sez with\n",
    "    | [] -> i_konca (*če je praten, bo 0, bo prazen string nakonc*)\n",
    "    | x :: xs when x = ' ' -> aux_iskanje_konca i_konca (i + 1) xs\n",
    "    | x :: xs -> aux_iskanje_konca i (i + 1) xs (*Torej raj nardim, da gre do vključno, in se poveča vsakič, k je neprazen znak.*)\n",
    "  in\n",
    "  let indeks_konca_niza = aux_iskanje_konca 0 0 desni_char_list in\n",
    "  let zberi_začetek_v_niz i_konca cl =\n",
    "    let rec aux_v_niz acc i l =\n",
    "      match i, l with\n",
    "      | _, [] -> acc\n",
    "      | i, x :: xs when i <= i_konca -> aux_v_niz (acc ^ Char.escaped x) (i + 1) xs\n",
    "      | i, x :: xs -> acc (* Nas ne zanima več*)\n",
    "      (* to men zgleda zelo ne dobr časovno, ker gre kvadratično čez string\n",
    "      Sam kako pa list.concat to nardi? ...... ???*)\n",
    "    in\n",
    "    aux_v_niz \"\" 0 cl\n",
    "  in\n",
    "  zberi_začetek_v_niz indeks_konca_niza desni_char_list\n",
    "  (*hotla sm neki z List.mapi in pol vrže ven vse ostale.\n",
    "  Une spremeni v string, tisto pa vrže ven, kar je odveč. A probam?*)\n",
    "in\n",
    "let desni_niz = pomozna_desni desni_char_list in"
   ]
  },
  {
   "cell_type": "code",
   "execution_count": 27,
   "metadata": {
    "vscode": {
     "languageId": "ocaml"
    }
   },
   "outputs": [
    {
     "data": {
      "text/plain": [
       "val filter_mapi : (int -> 'a -> 'b option) -> 'a list -> 'b list = <fun>\n"
      ]
     },
     "execution_count": 27,
     "metadata": {},
     "output_type": "execute_result"
    }
   ],
   "source": [
    "let filter_mapi f =\n",
    "  let rec aux acc i =\n",
    "    function\n",
    "    | [] -> List.rev acc\n",
    "    | x :: xs -> (\n",
    "      if Option.is_none (f i x) then aux acc (i + 1) xs\n",
    "      else aux (Option.get (f i x) :: acc) (i + 1) xs\n",
    "    )\n",
    "  in\n",
    "  aux [] 0"
   ]
  },
  {
   "cell_type": "code",
   "execution_count": 28,
   "metadata": {
    "vscode": {
     "languageId": "ocaml"
    }
   },
   "outputs": [
    {
     "data": {
      "text/plain": [
       "val pomozna_desni : char list -> string = <fun>\n"
      ]
     },
     "execution_count": 28,
     "metadata": {},
     "output_type": "execute_result"
    }
   ],
   "source": [
    "(* Probam še z vgrajenimi bolj zale konc*)\n",
    "let pomozna_desni desni_char_list =\n",
    "  let rec aux_iskanje_konca i_konca i sez =\n",
    "    match sez with\n",
    "    | [] -> i_konca (*če je praten, bo 0, bo prazen string nakonc*)\n",
    "    | x :: xs when x = ' ' -> aux_iskanje_konca i_konca (i + 1) xs\n",
    "    | x :: xs -> aux_iskanje_konca i (i + 1) xs (*Torej raj nardim, da gre do vključno, in se poveča vsakič, k je neprazen znak.*)\n",
    "  in\n",
    "  let indeks_konca_niza = aux_iskanje_konca 0 0 desni_char_list in\n",
    "  let f_desni_map_z_indeksom_konca i c =\n",
    "    if i <= indeks_konca_niza then Some (Char.escaped c)\n",
    "    else None\n",
    "  in\n",
    "  filter_mapi f_desni_map_z_indeksom_konca desni_char_list\n",
    "  |> String.concat \"\"\n",
    "  (* ubistvu bi rabla filter_mapi, ki pa ne obstaja, ampak smo ga enkrat implementiral ...*)\n",
    "  (*hotla sm neki z List.mapi in pol vrže ven vse ostale.\n",
    "  Une spremeni v string, tisto pa vrže ven, kar je odveč. A probam?*)"
   ]
  },
  {
   "cell_type": "code",
   "execution_count": 29,
   "metadata": {
    "vscode": {
     "languageId": "ocaml"
    }
   },
   "outputs": [
    {
     "data": {
      "text/plain": [
       "val cl1 : char list = [' '; ' '; 'a'; 'b'; ' '; 'c'; ' ']\n"
      ]
     },
     "execution_count": 29,
     "metadata": {},
     "output_type": "execute_result"
    }
   ],
   "source": [
    "let cl1 = [' '; ' '; 'a'; 'b'; ' '; 'c'; ' ']"
   ]
  },
  {
   "cell_type": "code",
   "execution_count": 30,
   "metadata": {
    "vscode": {
     "languageId": "ocaml"
    }
   },
   "outputs": [
    {
     "data": {
      "text/plain": [
       "- : string = \"  ab c\"\n"
      ]
     },
     "execution_count": 30,
     "metadata": {},
     "output_type": "execute_result"
    }
   ],
   "source": [
    "pomozna_desni cl1"
   ]
  },
  {
   "cell_type": "code",
   "execution_count": 31,
   "metadata": {
    "vscode": {
     "languageId": "ocaml"
    }
   },
   "outputs": [
    {
     "data": {
      "text/plain": [
       "val print_list : char list -> unit = <fun>\n"
      ]
     },
     "execution_count": 31,
     "metadata": {},
     "output_type": "execute_result"
    }
   ],
   "source": [
    "let rec print_list = function \n",
    "[] -> ()\n",
    "| c::l -> Printf.printf \"%c\" c ; print_list l"
   ]
  },
  {
   "cell_type": "code",
   "execution_count": 32,
   "metadata": {
    "vscode": {
     "languageId": "ocaml"
    }
   },
   "outputs": [
    {
     "data": {
      "text/plain": [
       "- : unit = ()\n"
      ]
     },
     "execution_count": 32,
     "metadata": {},
     "output_type": "execute_result"
    }
   ],
   "source": [
    "print_list [' '; ' '; 'l'; 'a'; ' '; 'r'; 'a']"
   ]
  },
  {
   "cell_type": "code",
   "execution_count": 33,
   "metadata": {
    "vscode": {
     "languageId": "ocaml"
    }
   },
   "outputs": [
    {
     "data": {
      "text/plain": [
       "- : unit = ()\n"
      ]
     },
     "execution_count": 33,
     "metadata": {},
     "output_type": "execute_result"
    }
   ],
   "source": [
    "Printf.printf \"%c\" ' '"
   ]
  },
  {
   "cell_type": "code",
   "execution_count": 35,
   "metadata": {
    "vscode": {
     "languageId": "ocaml"
    }
   },
   "outputs": [
    {
     "data": {
      "text/plain": [
       "val print_desni : char list -> unit = <fun>\n"
      ]
     },
     "execution_count": 35,
     "metadata": {},
     "output_type": "execute_result"
    }
   ],
   "source": [
    "(* Popravek: že sproti naj printa.\n",
    "Tkoda za desnega lahko nardim tko, da printa dokler je znak, k ni presledek,\n",
    "pol si shranjuje ostalo v string, in pol, k je spet znak, če je, sprinta najprej un string, pol pa to.*)\n",
    "let print_desni desni_char_list =\n",
    "  let rec aux_printd_in_iskanje_konca acc_niz sez =\n",
    "    match sez with\n",
    "    | [] -> () (* Pršli do konca alpa je prazen. In nič ne naprinta, kar je okej, ker bo glavo sprintu tud, če bo prazna*)\n",
    "    | x :: xs when x = ' ' -> aux_printd_in_iskanje_konca (acc_niz ^ (Char.escaped x)) xs (* Če je presledek, da v pomožni niz*)\n",
    "    | x :: xs -> (\n",
    "      Printf.printf \"%s\" acc_niz; Printf.printf \"%c\" x ; aux_printd_in_iskanje_konca \"\" xs (*Torej znak, če smo vmes shranjeval presledke, jih zdele še naprintamo*)\n",
    "    )\n",
    "  in\n",
    "  aux_printd_in_iskanje_konca \"\" desni_char_list"
   ]
  },
  {
   "cell_type": "code",
   "execution_count": null,
   "metadata": {
    "vscode": {
     "languageId": "ocaml"
    }
   },
   "outputs": [
    {
     "data": {
      "text/plain": [
       "val print_levi : char list -> unit = <fun>\n"
      ]
     },
     "execution_count": 37,
     "metadata": {},
     "output_type": "execute_result"
    }
   ],
   "source": [
    "let print_levi obrnjen_levi_char_list =\n",
    "  let rec aux_ltrim_in_printl flag sez =\n",
    "    match flag, sez with\n",
    "    | _, [] -> ()\n",
    "    | false, x :: xs when x = ' ' -> aux_ltrim_in_printl false xs\n",
    "    | false, x :: xs -> Printf.printf \"%c\" x ; aux_ltrim_in_printl true xs\n",
    "    | true, x :: xs -> Printf.printf \"%c\" x ; aux_ltrim_in_printl true xs (* Ko enkrat naleti na znak, ki ni presledek, sprinta vse naprej*)\n",
    "  in\n",
    "  aux_ltrim_in_printl false obrnjen_levi_char_list\n",
    "  (* sam te ta leve morm tud preštet.*)"
   ]
  },
  {
   "cell_type": "code",
   "execution_count": 40,
   "metadata": {
    "vscode": {
     "languageId": "ocaml"
    }
   },
   "outputs": [
    {
     "data": {
      "text/plain": [
       "- : unit = ()\n"
      ]
     },
     "execution_count": 40,
     "metadata": {},
     "output_type": "execute_result"
    }
   ],
   "source": [
    "Printf.printf \"%!\""
   ]
  },
  {
   "cell_type": "code",
   "execution_count": null,
   "metadata": {
    "vscode": {
     "languageId": "ocaml"
    }
   },
   "outputs": [
    {
     "data": {
      "text/plain": [
       "val print_levi_in_prestej : char list -> int = <fun>\n"
      ]
     },
     "execution_count": 42,
     "metadata": {},
     "output_type": "execute_result"
    }
   ],
   "source": [
    "let print_levi_in_prestej obrnjen_levi_char_list =\n",
    "  let rec aux_ltrim_in_printl flag dolzina_niza sez =\n",
    "    match flag, sez with\n",
    "    | _, [] -> dolzina_niza\n",
    "    | false, x :: xs when x = ' ' -> aux_ltrim_in_printl false (dolzina_niza + 1) xs\n",
    "    | false, x :: xs -> Printf.printf \"%c\" x ; aux_ltrim_in_printl true (dolzina_niza + 1) xs\n",
    "    | true, x :: xs -> Printf.printf \"%c\" x ; aux_ltrim_in_printl true (dolzina_niza + 1) xs (* Ko enkrat naleti na znak, ki ni presledek, sprinta vse naprej*)\n",
    "  in\n",
    "  aux_ltrim_in_printl false 0 obrnjen_levi_char_list\n",
    "  (* sam te ta leve morm tud preštet.*)\n",
    "  (* Ne vrne unita, kar je problem, verjetno. Ker pol bo cel print kr en drek vraču.\n",
    "  Seprav je to vse brezveze in morm sam it čez seznam dvakrat pač, oziroma še enkrat za reverse, tkoda trikrat ...*)"
   ]
  },
  {
   "cell_type": "code",
   "execution_count": 45,
   "metadata": {
    "vscode": {
     "languageId": "ocaml"
    }
   },
   "outputs": [
    {
     "data": {
      "text/plain": [
       "val obrni_ltrim_prestej_levi : char list -> int = <fun>\n"
      ]
     },
     "execution_count": 45,
     "metadata": {},
     "output_type": "execute_result"
    }
   ],
   "source": [
    "(* Pač a profitiram, če dam sproti jih že v string pa sam sprintam pol? *)\n",
    "(* sam glede na to, da so immutable, pa da dvomm, da so verižni, ker pol ne bi mogu do indeksa dostopat,\n",
    "verjetno dela skos nove alpa kej. Razen, če je kokr python seznam.\n",
    "Jap, concat je O(n), tkoda če ga delam na vsakem koraku mam O(n^2)*)\n",
    "let obrni_ltrim_prestej_levi1 levi_char_list = \n",
    "  let rec aux_ltrim_in_prestej i flag sez =\n",
    "    match flag, sez with\n",
    "    | _, [] -> i\n",
    "    | false, x :: xs when x = ' ' -> aux_ltrim_in_prestej 0 false xs\n",
    "    | false, x :: xs -> aux_ltrim_in_prestej (i + 1) true xs\n",
    "    | true, x :: xs -> aux_ltrim_in_prestej (i + 1) true xs\n",
    "  in\n",
    "  List.rev levi_char_list \n",
    "  |> aux_ltrim_in_prestej 0 false\n",
    "  (* sam js zdej dobim sam int ven, rada bi še nov seznam. sam pol ga morm spet okrog obračat.\n",
    "  To je še en O(n) in pol še enkrat za print. Ampak sej, it trikrat skoz, manj kot to ne znam, ane?\n",
    "  Kar je štirkrat vse skupi ...\n",
    "  Manj lahko dobim: če sproti printam, sam pol nimam informacije, kam dat glavo, morm še enkrat čez itak.\n",
    "  Kar je tko, kar je zdej, al kaj? In pol je tud čist vseen, a vržem ven seznam takoj, k je neprazen znak,\n",
    "  pa dam list.length, al jih še js sprot preštejem. In dam v krajši seznam. Al kaj.*)"
   ]
  },
  {
   "cell_type": "code",
   "execution_count": null,
   "metadata": {
    "vscode": {
     "languageId": "ocaml"
    }
   },
   "outputs": [],
   "source": [
    "(* Je pa tole cist zabavno drgač :P 21/1/25, 12.31*)"
   ]
  },
  {
   "cell_type": "code",
   "execution_count": 55,
   "metadata": {
    "vscode": {
     "languageId": "ocaml"
    }
   },
   "outputs": [
    {
     "data": {
      "text/plain": [
       "val obrni_ltrim_prestej_levi : char list -> int * char list = <fun>\n"
      ]
     },
     "execution_count": 55,
     "metadata": {},
     "output_type": "execute_result"
    }
   ],
   "source": [
    "let obrni_ltrim_prestej_levi levi_char_list = \n",
    "  let rec aux_ltrim_in_prestej i flag acc sez =\n",
    "    match flag, sez with\n",
    "    | _, [] -> i, List.rev acc\n",
    "    | false, x :: xs when x = ' ' -> aux_ltrim_in_prestej 0 false [] xs\n",
    "    | false, x :: xs -> aux_ltrim_in_prestej (i + 1) true (x :: acc) xs\n",
    "    | true, x :: xs -> aux_ltrim_in_prestej (i + 1) true (x :: acc) xs\n",
    "  in\n",
    "  List.rev levi_char_list \n",
    "  |> aux_ltrim_in_prestej 0 false []\n",
    "  (* n + n + n *)"
   ]
  },
  {
   "cell_type": "code",
   "execution_count": 47,
   "metadata": {
    "vscode": {
     "languageId": "ocaml"
    }
   },
   "outputs": [
    {
     "data": {
      "text/plain": [
       "- : int * char list = (6, ['c'; ' '; 'b'; 'a'; ' '; ' '])\n"
      ]
     },
     "execution_count": 47,
     "metadata": {},
     "output_type": "execute_result"
    }
   ],
   "source": [
    "obrni_ltrim_prestej_levi cl1"
   ]
  },
  {
   "cell_type": "code",
   "execution_count": 48,
   "metadata": {
    "vscode": {
     "languageId": "ocaml"
    }
   },
   "outputs": [
    {
     "data": {
      "text/plain": [
       "val cl0 : char list = [' '; ' '; ' '; ' '; ' '; ' '; ' '; ' '; ' '; ' ']\n"
      ]
     },
     "execution_count": 48,
     "metadata": {},
     "output_type": "execute_result"
    }
   ],
   "source": [
    "let cl0 = List.init 10 (fun x -> ' ')"
   ]
  },
  {
   "cell_type": "code",
   "execution_count": 51,
   "metadata": {
    "vscode": {
     "languageId": "ocaml"
    }
   },
   "outputs": [
    {
     "data": {
      "text/plain": [
       "- : int * char list = (3, ['l'; ' '; ' '])\n"
      ]
     },
     "execution_count": 51,
     "metadata": {},
     "output_type": "execute_result"
    }
   ],
   "source": [
    "obrni_ltrim_prestej_levi [' '; ' '; 'l'; ' '; ' '; ' '; ' '; ' '; ' '; ' ']"
   ]
  },
  {
   "cell_type": "code",
   "execution_count": 56,
   "metadata": {
    "vscode": {
     "languageId": "ocaml"
    }
   },
   "outputs": [
    {
     "data": {
      "text/plain": [
       "val print_levi2 : char list -> unit = <fun>\n"
      ]
     },
     "execution_count": 56,
     "metadata": {},
     "output_type": "execute_result"
    }
   ],
   "source": [
    "let rec print_levi2 obrnjen_trim_levi_cl =\n",
    "  match obrnjen_trim_levi_cl with\n",
    "  | [] -> ()\n",
    "  | x :: xs -> Printf.printf \"%c\" x ; print_levi2 xs"
   ]
  },
  {
   "cell_type": "code",
   "execution_count": 57,
   "metadata": {
    "vscode": {
     "languageId": "ocaml"
    }
   },
   "outputs": [
    {
     "data": {
      "text/plain": [
       "val print_char_list : char list -> unit = <fun>\n"
      ]
     },
     "execution_count": 57,
     "metadata": {},
     "output_type": "execute_result"
    }
   ],
   "source": [
    "let rec print_char_list = function \n",
    "  | [] -> ()\n",
    "  | c :: cs -> Printf.printf \"%c\" c ; print_char_list cs"
   ]
  },
  {
   "cell_type": "code",
   "execution_count": 58,
   "metadata": {
    "vscode": {
     "languageId": "ocaml"
    }
   },
   "outputs": [
    {
     "data": {
      "text/plain": [
       "val print_levi : char list -> unit = <fun>\n"
      ]
     },
     "execution_count": 58,
     "metadata": {},
     "output_type": "execute_result"
    }
   ],
   "source": [
    "let print_levi levi_char_list = \n",
    "  let obrni_ltrim_prestej_levi levi_char_list = \n",
    "    let rec aux_ltrim_in_prestej i flag acc sez =\n",
    "      match flag, sez with\n",
    "      | _, [] -> i, List.rev acc\n",
    "      | false, x :: xs when x = ' ' -> aux_ltrim_in_prestej 0 false [] xs\n",
    "      | false, x :: xs -> aux_ltrim_in_prestej (i + 1) true (x :: acc) xs\n",
    "      | true, x :: xs -> aux_ltrim_in_prestej (i + 1) true (x :: acc) xs\n",
    "    in\n",
    "    List.rev levi_char_list \n",
    "    |> aux_ltrim_in_prestej 0 false []\n",
    "  in\n",
    "  let indeks, levi = obrni_ltrim_prestej_levi levi_char_list in\n",
    "  print_char_list levi\n",
    "  (* Aha sej bom mogla dat te pomožne v cel print, da bo tale indeks ostal nekje.*)"
   ]
  },
  {
   "cell_type": "code",
   "execution_count": 81,
   "metadata": {
    "vscode": {
     "languageId": "ocaml"
    }
   },
   "outputs": [
    {
     "ename": "error",
     "evalue": "compile_error",
     "output_type": "error",
     "traceback": [
      "File \"[81]\", line 10, characters 0-0:\nError: Syntax error\n"
     ]
    }
   ],
   "source": [
    "(* Še sprintat morm *)\n",
    "let indeks5 = 5 in\n",
    "let printanje_druge_vrste indeks =  (*dela tud za indeks = 0, pol nikol pač ne nardi*)\n",
    "  Printf.printf \"%s\" \"\\n\";\n",
    "  for i=1 to indeks do\n",
    "    Printf.printf \"%c\" ' '\n",
    "  done;\n",
    "  Printf.printf \"%s\" \"^\\n\"\n",
    "  (* To ne vem, zakaj, ne dela. Dela v terminalu ??*)"
   ]
  },
  {
   "cell_type": "code",
   "execution_count": null,
   "metadata": {
    "vscode": {
     "languageId": "ocaml"
    }
   },
   "outputs": [],
   "source": [
    "# let f elem =\n",
    "  Printf.printf \"I'm looking at element %d now\\n\" elem\n",
    "in\n",
    "  List.iter f my_list;;\n",
    "I'm looking at element 1 now\n",
    "I'm looking at element 2 now\n",
    "I'm looking at element 3 now\n",
    "I'm looking at element 4 now\n",
    "I'm looking at element 5 now\n",
    "I'm looking at element 6 now\n",
    "I'm looking at element 7 now\n",
    "I'm looking at element 8 now\n",
    "I'm looking at element 9 now\n",
    "I'm looking at element 10 now\n"
   ]
  },
  {
   "cell_type": "code",
   "execution_count": 84,
   "metadata": {
    "vscode": {
     "languageId": "ocaml"
    }
   },
   "outputs": [
    {
     "data": {
      "text/plain": [
       "val print_desni2 : char list -> unit = <fun>\n"
      ]
     },
     "execution_count": 84,
     "metadata": {},
     "output_type": "execute_result"
    }
   ],
   "source": [
    "let print_desni2 desni_char_list =\n",
    "  let rec aux_printd_in_iskanje_konca stevec_presledkov sez = (* Sej v pomožnem so samo presledki!*)\n",
    "    match sez with\n",
    "    | [] -> ()\n",
    "    | x :: xs when x = ' ' -> aux_printd_in_iskanje_konca (stevec_presledkov + 1) xs (* Če je presledek, prešteje, kok jih mora natisnt. *)\n",
    "    (* To ma bs časovno zahtevnost, naredi raje seznam, al kaj. *)\n",
    "    | x :: xs -> (\n",
    "      for i=1 to stevec_presledkov do\n",
    "        Printf.printf \"%c\" ' '\n",
    "      done;\n",
    "      Printf.printf \"%c\" x ; \n",
    "      aux_printd_in_iskanje_konca 0 xs (*Torej znak, če smo vmes shranjeval presledke, jih zdele še naprintamo*)\n",
    "    )\n",
    "  in\n",
    "  aux_printd_in_iskanje_konca 0 desni_char_list"
   ]
  },
  {
   "cell_type": "code",
   "execution_count": 90,
   "metadata": {
    "vscode": {
     "languageId": "ocaml"
    }
   },
   "outputs": [
    {
     "data": {
      "text/plain": [
       "val print_triple : char list * char * char list -> unit = <fun>\n"
      ]
     },
     "execution_count": 90,
     "metadata": {},
     "output_type": "execute_result"
    }
   ],
   "source": [
    "let print_triple = function\n",
    "| (levi, glava, desni) -> (\n",
    "  let obrni_ltrim_prestej_levi levi_char_list = \n",
    "    let rec aux_ltrim_in_prestej i flag acc sez =\n",
    "      match flag, sez with\n",
    "      | _, [] -> i, List.rev acc\n",
    "      | false, x :: xs when x = ' ' -> aux_ltrim_in_prestej 0 false [] xs\n",
    "      | false, x :: xs -> aux_ltrim_in_prestej (i + 1) true (x :: acc) xs\n",
    "      | true, x :: xs -> aux_ltrim_in_prestej (i + 1) true (x :: acc) xs\n",
    "    in\n",
    "    List.rev levi_char_list \n",
    "    |> aux_ltrim_in_prestej 0 false []\n",
    "  in \n",
    "  (* Vrne levi seznam pripravljen za print in njegovo dolžino. *)\n",
    "  let rec print_char_list = function \n",
    "    | [] -> ()\n",
    "    | c :: cs -> Printf.printf \"%c\" c ; print_char_list cs\n",
    "  in\n",
    "  let dolzina, levi_za_print = obrni_ltrim_prestej_levi levi in\n",
    "  print_char_list levi_za_print; \n",
    "  (* Sprintan je levi del traku. *)\n",
    "  Printf.printf \"%c\" glava;\n",
    "  (* Sprintana je glava. *)\n",
    "  let print_desni desni_char_list =\n",
    "    let rec aux_printd_in_iskanje_konca stevec_presledkov sez = (* Sej v pomožnem so samo presledki!*)\n",
    "      match sez with\n",
    "      | [] -> ()\n",
    "      | x :: xs when x = ' ' -> aux_printd_in_iskanje_konca (stevec_presledkov + 1) xs (* Če je presledek, prešteje, kok jih mora natisnt. *)\n",
    "      (* To ma bs časovno zahtevnost, naredi raje seznam, al kaj. *)\n",
    "      | x :: xs -> (\n",
    "        for i=1 to stevec_presledkov do\n",
    "          Printf.printf \"%c\" ' '\n",
    "        done;\n",
    "        Printf.printf \"%c\" x ; \n",
    "        aux_printd_in_iskanje_konca 0 xs (*Torej znak, če smo vmes shranjeval presledke, jih zdele še naprintamo*)\n",
    "      )\n",
    "    in\n",
    "    aux_printd_in_iskanje_konca 0 desni_char_list\n",
    "  in\n",
    "  print_desni desni;\n",
    "  (* Sprintan je desni del traku. *)\n",
    "  Printf.printf \"%s\" \"\\n\";\n",
    "  for i=1 to dolzina do\n",
    "    Printf.printf \"%c\" ' '\n",
    "  done;\n",
    "  Printf.printf \"%s\" \"^\\n\"\n",
    "  (* Sprintana je druga vrsta. *)\n",
    ")"
   ]
  },
  {
   "cell_type": "code",
   "execution_count": 91,
   "metadata": {
    "vscode": {
     "languageId": "ocaml"
    }
   },
   "outputs": [
    {
     "data": {
      "text/plain": [
       "val triple1 : char list * char * char list =\n",
       "  ([' '; ' '; 'a'; 'b'; ' '; 'c'; ' '], ' ',\n",
       "   [' '; ' '; 'a'; 'b'; ' '; 'c'; ' '])\n"
      ]
     },
     "execution_count": 91,
     "metadata": {},
     "output_type": "execute_result"
    }
   ],
   "source": [
    "let triple1 = (cl1, ' ', cl1)"
   ]
  },
  {
   "cell_type": "code",
   "execution_count": 92,
   "metadata": {
    "vscode": {
     "languageId": "ocaml"
    }
   },
   "outputs": [
    {
     "data": {
      "text/plain": [
       "- : unit = ()\n"
      ]
     },
     "execution_count": 92,
     "metadata": {},
     "output_type": "execute_result"
    }
   ],
   "source": [
    "print_triple triple1"
   ]
  },
  {
   "cell_type": "code",
   "execution_count": 93,
   "metadata": {
    "vscode": {
     "languageId": "ocaml"
    }
   },
   "outputs": [
    {
     "data": {
      "text/plain": [
       "type direction = Left | Right\n"
      ]
     },
     "execution_count": 93,
     "metadata": {},
     "output_type": "execute_result"
    }
   ],
   "source": [
    "type direction = Left | Right"
   ]
  },
  {
   "cell_type": "code",
   "execution_count": 94,
   "metadata": {
    "vscode": {
     "languageId": "ocaml"
    }
   },
   "outputs": [
    {
     "ename": "error",
     "evalue": "compile_error",
     "output_type": "error",
     "traceback": [
      "File \"[94]\", line 3, characters 10-14:\n3 |   | Left, Trak (levi, glava, desni) -> (\n              ^^^^\nError: Unbound constructor Trak\n"
     ]
    }
   ],
   "source": [
    "let move dir trak = \n",
    "  match dir, trak with\n",
    "  | Left, Trak (levi, glava, desni) -> (\n",
    "    match levi with\n",
    "    | [] -> Trak ([], ' ', glava :: desni)\n",
    "    | x :: xs -> Trak (xs, x, glava :: desni) (* Je to vse ?*)\n",
    "  )\n",
    "  | Right, Trak (levi, glava, desni) -> (\n",
    "    match desni with\n",
    "    | [] -> Trak (glava :: levi, ' ', [])\n",
    "    | x :: xs -> Trak (glava :: levi, x, xs)\n",
    "  )"
   ]
  },
  {
   "cell_type": "code",
   "execution_count": null,
   "metadata": {
    "vscode": {
     "languageId": "ocaml"
    }
   },
   "outputs": [],
   "source": [
    "(* PRED ZAPISNIM TIPOM *)\n",
    "module Tape : TAPE = struct\n",
    "  type t = Trak of char list * char * char list\n",
    "  (* Če sem prav razumela, je zapisni tip itak immutable in je vseen.\n",
    "  Razmisli, a vseeno zamenjam na zapisni tip, če bodo zaradi tega lepše funkcije.\n",
    "  POPRAVI !*)\n",
    "\n",
    "  (*let char_list_to_string cl = String.concat \"\" (List.map (String.make 1) cl)*)\n",
    "  (*Če bom še rabla to funkcijo, sem dala ven*)\n",
    "  (* Pozab, to ma neko biggest loser slovenia casovno zahtevnost pomoje.*)\n",
    "  let string_to_char_list niz = List.init (String.length niz) (String.get niz)\n",
    "  (*Če bom rabla, dam ven iz make, pa mam kle*)\n",
    "  (* A raj to nardim na roke, da je zihr O(n), sam sej te implementirane menda niso glupe?*)\n",
    "\n",
    "  let make niz =\n",
    "    let char_list = List.init (String.length niz) (String.get niz) in\n",
    "    match char_list with\n",
    "    | [] -> Trak ([], ' ', [])\n",
    "    | x :: xs -> Trak ([], x, xs)\n",
    "\n",
    "  let print = function\n",
    "    | Trak (levi, glava, desni) -> (\n",
    "      let obrni_ltrim_prestej_levi levi_char_list = \n",
    "        let rec aux_ltrim_in_prestej i flag acc sez =\n",
    "          match flag, sez with\n",
    "          | _, [] -> i, List.rev acc\n",
    "          | false, x :: xs when x = ' ' -> aux_ltrim_in_prestej 0 false [] xs\n",
    "          | false, x :: xs -> aux_ltrim_in_prestej (i + 1) true (x :: acc) xs\n",
    "          | true, x :: xs -> aux_ltrim_in_prestej (i + 1) true (x :: acc) xs\n",
    "        in\n",
    "        List.rev levi_char_list \n",
    "        |> aux_ltrim_in_prestej 0 false []\n",
    "      in \n",
    "      (* Vrne levi seznam pripravljen za print in njegovo dolžino. *)\n",
    "      let rec print_char_list = function \n",
    "        | [] -> ()\n",
    "        | c :: cs -> Printf.printf \"%c\" c ; print_char_list cs\n",
    "      in\n",
    "      let dolzina, levi_za_print = obrni_ltrim_prestej_levi levi in\n",
    "      print_char_list levi_za_print; \n",
    "      (* Sprintan je levi del traku. *)\n",
    "      Printf.printf \"%c\" glava;\n",
    "      (* Sprintana je glava. *)\n",
    "      let print_desni desni_char_list =\n",
    "        let rec aux_printd_in_iskanje_konca stevec_presledkov sez = (* Sej v pomožnem so samo presledki!*)\n",
    "          match sez with\n",
    "          | [] -> ()\n",
    "          | x :: xs when x = ' ' -> aux_printd_in_iskanje_konca (stevec_presledkov + 1) xs (* Če je presledek, prešteje, kok jih mora natisnt. *)\n",
    "          (* To ma bs časovno zahtevnost, naredi raje seznam, al kaj. *)\n",
    "          | x :: xs -> (\n",
    "            for i=1 to stevec_presledkov do\n",
    "              Printf.printf \"%c\" ' '\n",
    "            done;\n",
    "            Printf.printf \"%c\" x ; \n",
    "            aux_printd_in_iskanje_konca 0 xs (*Torej znak, če smo vmes shranjeval presledke, jih zdele še naprintamo*)\n",
    "          )\n",
    "        in\n",
    "        aux_printd_in_iskanje_konca 0 desni_char_list\n",
    "      in\n",
    "      print_desni desni;\n",
    "      (* Sprintan je desni del traku. *)\n",
    "      Printf.printf \"%s\" \"\\n\";\n",
    "      for i=1 to dolzina do\n",
    "        Printf.printf \"%c\" ' '\n",
    "      done;\n",
    "      Printf.printf \"%s\" \"^\\n\"\n",
    "      (* Sprintana je druga vrsta. *)\n",
    "    )\n",
    "\n",
    "  let read = function\n",
    "    | Trak (_, glava, _) -> glava\n",
    "  let move dir trak = \n",
    "    match dir, trak with\n",
    "    | Left, Trak (levi, glava, desni) -> (\n",
    "      match levi with\n",
    "      | [] -> Trak ([], ' ', glava :: desni)\n",
    "      | x :: xs -> Trak (xs, x, glava :: desni)\n",
    "    )\n",
    "    | Right, Trak (levi, glava, desni) -> (\n",
    "      match desni with\n",
    "      | [] -> Trak (glava :: levi, ' ', [])\n",
    "      | x :: xs -> Trak (glava :: levi, x, xs)\n",
    "    )\n",
    "  let write c = function\n",
    "    | Trak (levi, glava, desni) -> Trak (levi, c, desni)\n",
    "end\n",
    "\n",
    "let primer_trak = Tape.(\n",
    "  make \"ABCDE\"\n",
    "  |> move Left\n",
    "  |> move Left\n",
    "  |> move Right\n",
    "  |> move Right\n",
    "  |> move Right\n",
    "  |> move Right\n",
    "  |> write '!'\n",
    "  |> print\n",
    ")"
   ]
  }
 ],
 "metadata": {
  "kernelspec": {
   "display_name": "OCaml 4.14",
   "language": "OCaml",
   "name": "ocaml-jupyter"
  },
  "language_info": {
   "codemirror_mode": "text/x-ocaml",
   "file_extension": ".ml",
   "mimetype": "text/x-ocaml",
   "name": "OCaml",
   "nbconverter_exporter": null,
   "pygments_lexer": "OCaml",
   "version": "4.14.2"
  }
 },
 "nbformat": 4,
 "nbformat_minor": 2
}

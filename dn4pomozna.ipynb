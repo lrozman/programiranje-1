{
 "cells": [
  {
   "cell_type": "code",
   "execution_count": 1,
   "metadata": {
    "vscode": {
     "languageId": "ocaml"
    }
   },
   "outputs": [
    {
     "data": {
      "text/plain": [
       "val char_list_to_string : char list -> string = <fun>\n"
      ]
     },
     "execution_count": 1,
     "metadata": {},
     "output_type": "execute_result"
    }
   ],
   "source": [
    "let char_list_to_string cl = String.concat \"\" (List.map (String.make 1) cl)"
   ]
  },
  {
   "cell_type": "code",
   "execution_count": 9,
   "metadata": {
    "vscode": {
     "languageId": "ocaml"
    }
   },
   "outputs": [
    {
     "data": {
      "text/plain": [
       "- : string = \" a \"\n"
      ]
     },
     "execution_count": 9,
     "metadata": {},
     "output_type": "execute_result"
    }
   ],
   "source": [
    "char_list_to_string [' '; 'a'; ' ';]"
   ]
  },
  {
   "cell_type": "code",
   "execution_count": 6,
   "metadata": {
    "vscode": {
     "languageId": "ocaml"
    }
   },
   "outputs": [
    {
     "data": {
      "text/plain": [
       "val string_to_char_list : string -> char list = <fun>\n"
      ]
     },
     "execution_count": 6,
     "metadata": {},
     "output_type": "execute_result"
    }
   ],
   "source": [
    "let string_to_char_list niz = List.init (String.length niz) (String.get niz)"
   ]
  },
  {
   "cell_type": "code",
   "execution_count": 8,
   "metadata": {
    "vscode": {
     "languageId": "ocaml"
    }
   },
   "outputs": [
    {
     "data": {
      "text/plain": [
       "- : char list = [' '; 'a'; 'b'; ' '; 'c']\n"
      ]
     },
     "execution_count": 8,
     "metadata": {},
     "output_type": "execute_result"
    }
   ],
   "source": [
    "string_to_char_list \" ab c\""
   ]
  },
  {
   "cell_type": "code",
   "execution_count": 10,
   "metadata": {
    "vscode": {
     "languageId": "ocaml"
    }
   },
   "outputs": [
    {
     "data": {
      "text/plain": [
       "- : string = \"abc\"\n"
      ]
     },
     "execution_count": 10,
     "metadata": {},
     "output_type": "execute_result"
    }
   ],
   "source": [
    "String.trim \"   abc    \""
   ]
  },
  {
   "cell_type": "code",
   "execution_count": 11,
   "metadata": {
    "vscode": {
     "languageId": "ocaml"
    }
   },
   "outputs": [
    {
     "data": {
      "text/plain": [
       "val trak1 : string = \"   abcDe  fg    h    \"\n"
      ]
     },
     "execution_count": 11,
     "metadata": {},
     "output_type": "execute_result"
    }
   ],
   "source": [
    "let trak1 = \"   abcDe  fg    h    \"\n",
    "(* Imam torej kao glavo na D. in mam en seznam, k je c b a prazen, in morm sam to nakonc porezat, pa obrnt.*)\n",
    "(* Lahko levga najprej obrnem, potem najdem find_index od prvega elementa, k ni prazen in pol nardim sub\n",
    "    Desn pa morm najt zadnga, da so od tam naprej sam še presledki ... nočm ga za brez veze obračat ...\n",
    "    Ker more bit kao učinkovito to vse skupi .... rabla bi sam en left/right trim ...\n",
    "    Okej pač enkrat se bom mogla čez sprehodt. Grem se probat sam enkrat.\n",
    "    Za ta desnga. Grem enkrat čez, da dobim indeks tazadnga k je blank z eno funkcijo in pol substring.\n",
    "    Grem torej dvakrat čez. Kar je bolš, kokr da dvakrat obrnem in enkrat iščem.\n",
    "    Za ta levga pa pač obrnem in grem do tam, kjer prvič je znak.\n",
    "    Kaj pa če mam desn seznam in grem čez, da najdem zadnjega praznega\n",
    "in potem še enkrat čez sam do unga indeksa z nekim mapi in hkrati nardim string.\n",
    "Pa a se pozna, da nardim tri stringe in jih concateniram skupi, kokr pa da dodajam na enga?\n",
    "Sej ne vem, kako stringi delujejo - a je sploh razlika?*)"
   ]
  },
  {
   "cell_type": "code",
   "execution_count": 12,
   "metadata": {
    "vscode": {
     "languageId": "ocaml"
    }
   },
   "outputs": [
    {
     "data": {
      "text/plain": [
       "- : string list =\n",
       "[\"\"; \"\"; \"\"; \"abcDe\"; \"\"; \"fg\"; \"\"; \"\"; \"\"; \"h\"; \"\"; \"\"; \"\"; \"\"]\n"
      ]
     },
     "execution_count": 12,
     "metadata": {},
     "output_type": "execute_result"
    }
   ],
   "source": [
    "String.split_on_char ' ' trak1"
   ]
  },
  {
   "cell_type": "code",
   "execution_count": 18,
   "metadata": {
    "vscode": {
     "languageId": "ocaml"
    }
   },
   "outputs": [
    {
     "data": {
      "text/plain": [
       "val pomozna_desni1 : char list -> int = <fun>\n"
      ]
     },
     "execution_count": 18,
     "metadata": {},
     "output_type": "execute_result"
    }
   ],
   "source": [
    "let pomozna_desni1 desni_char_list =\n",
    "  let rec aux i_konca i carry sez =\n",
    "    match carry, sez with\n",
    "    | _, [] -> i_konca (*če je praten, bo 0, bo prazen string nakonc*)\n",
    "    | true, x :: xs when x = ' ' -> aux i_konca (i + 1) true xs (* vrsta presledkov *)\n",
    "    | false, x :: xs when x = ' ' -> aux i (i + 1) true xs (*vidu prvi presledek po drugih znakih*)\n",
    "    | carry, x :: xs -> aux (i + 1) (i + 1) false xs (*kerkol drug znak pa izklop zastavco, pa ta znak mora bit v nizu, tkoda i + 1\n",
    "    ker bo šlo do ne-vključno. Torej raj nardim, da gre do vključno, in se poveča vsakič, k je neprazen znak.\n",
    "    Pa ne rabm zastavce ?*)\n",
    "  in\n",
    "  aux 0 0 false desni_char_list"
   ]
  },
  {
   "cell_type": "code",
   "execution_count": 19,
   "metadata": {
    "vscode": {
     "languageId": "ocaml"
    }
   },
   "outputs": [
    {
     "data": {
      "text/plain": [
       "- : int = 5\n"
      ]
     },
     "execution_count": 19,
     "metadata": {},
     "output_type": "execute_result"
    }
   ],
   "source": [
    "pomozna_desni1 (string_to_char_list \" ab c   \")"
   ]
  },
  {
   "cell_type": "code",
   "execution_count": 26,
   "metadata": {
    "vscode": {
     "languageId": "ocaml"
    }
   },
   "outputs": [
    {
     "data": {
      "text/plain": [
       "- : int = 0\n"
      ]
     },
     "execution_count": 26,
     "metadata": {},
     "output_type": "execute_result"
    }
   ],
   "source": [
    "pomozna_desni1 (string_to_char_list \" \")"
   ]
  },
  {
   "cell_type": "code",
   "execution_count": 23,
   "metadata": {
    "vscode": {
     "languageId": "ocaml"
    }
   },
   "outputs": [
    {
     "data": {
      "text/plain": [
       "val pomozna_desni2 : char list -> int = <fun>\n"
      ]
     },
     "execution_count": 23,
     "metadata": {},
     "output_type": "execute_result"
    }
   ],
   "source": [
    "let pomozna_desni2 desni_char_list =\n",
    "  let rec aux i_konca i sez =\n",
    "    match sez with\n",
    "    | [] -> i_konca (*če je praten, bo 0, bo prazen string nakonc*)\n",
    "    | x :: xs when x = ' ' -> aux i_konca (i + 1) xs (* vrsta presledkov *)\n",
    "    | x :: xs -> aux i (i + 1) xs (*kerkol drug znak pa izklop zastavco, pa ta znak mora bit v nizu, tkoda i + 1\n",
    "    ker bo šlo do ne-vključno. Torej raj nardim, da gre do vključno, in se poveča vsakič, k je neprazen znak.\n",
    "    Pa ne rabm zastavce ?*)\n",
    "  in\n",
    "  aux 0 0 desni_char_list"
   ]
  },
  {
   "cell_type": "code",
   "execution_count": 32,
   "metadata": {
    "vscode": {
     "languageId": "ocaml"
    }
   },
   "outputs": [
    {
     "data": {
      "text/plain": [
       "- : int = 0\n"
      ]
     },
     "execution_count": 32,
     "metadata": {},
     "output_type": "execute_result"
    }
   ],
   "source": [
    "pomozna_desni2 (string_to_char_list \"     \")"
   ]
  },
  {
   "cell_type": "code",
   "execution_count": null,
   "metadata": {
    "vscode": {
     "languageId": "ocaml"
    }
   },
   "outputs": [],
   "source": [
    "let pomozna_desni desni_char_list =\n",
    "  let rec aux_iskanje_konca i_konca i sez =\n",
    "    match sez with\n",
    "    | [] -> i_konca (*če je praten, bo 0, bo prazen string nakonc*)\n",
    "    | x :: xs when x = ' ' -> aux_iskanje_konca i_konca (i + 1) xs\n",
    "    | x :: xs -> aux_iskanje_konca i (i + 1) xs (*Torej raj nardim, da gre do vključno, in se poveča vsakič, k je neprazen znak.*)\n",
    "  in\n",
    "  let indeks_konca_niza = aux_iskanje_konca 0 0 desni_char_list in\n",
    "  let zberi_začetek_v_niz i_konca cl =\n",
    "    let rec aux_v_niz acc i l =\n",
    "      match i, l with\n",
    "      | _, [] -> acc\n",
    "      | i, x :: xs when i <= i_konca -> aux_v_niz (acc ^ Char.escaped x) (i + 1) xs\n",
    "      | i, x :: xs -> acc (* Nas ne zanima več*)\n",
    "      (* to men zgleda zelo ne dobr časovno, ker gre kvadratično čez string\n",
    "      Sam kako pa list.concat to nardi? ...... ???*)\n",
    "    in\n",
    "    aux_v_niz \"\" 0 cl\n",
    "  in\n",
    "  zberi_začetek_v_niz indeks_konca_niza desni_char_list\n",
    "  (*hotla sm neki z List.mapi in pol vrže ven vse ostale.\n",
    "  Une spremeni v string, tisto pa vrže ven, kar je odveč. A probam?*)\n",
    "in\n",
    "let desni_niz = pomozna_desni desni_char_list in"
   ]
  },
  {
   "cell_type": "code",
   "execution_count": 36,
   "metadata": {
    "vscode": {
     "languageId": "ocaml"
    }
   },
   "outputs": [
    {
     "data": {
      "text/plain": [
       "val filter_mapi : (int -> 'a -> 'b option) -> 'a list -> 'b list = <fun>\n"
      ]
     },
     "execution_count": 36,
     "metadata": {},
     "output_type": "execute_result"
    }
   ],
   "source": [
    "let filter_mapi f =\n",
    "  let rec aux acc i =\n",
    "    function\n",
    "    | [] -> List.rev acc\n",
    "    | x :: xs -> (\n",
    "      if Option.is_none (f i x) then aux acc (i + 1) xs\n",
    "      else aux (Option.get (f i x) :: acc) (i + 1) xs\n",
    "    )\n",
    "  in\n",
    "  aux [] 0"
   ]
  },
  {
   "cell_type": "code",
   "execution_count": 39,
   "metadata": {
    "vscode": {
     "languageId": "ocaml"
    }
   },
   "outputs": [
    {
     "data": {
      "text/plain": [
       "val pomozna_desni : char list -> string = <fun>\n"
      ]
     },
     "execution_count": 39,
     "metadata": {},
     "output_type": "execute_result"
    }
   ],
   "source": [
    "(* Probam še z vgrajenimi bolj zale konc*)\n",
    "let pomozna_desni desni_char_list =\n",
    "  let rec aux_iskanje_konca i_konca i sez =\n",
    "    match sez with\n",
    "    | [] -> i_konca (*če je praten, bo 0, bo prazen string nakonc*)\n",
    "    | x :: xs when x = ' ' -> aux_iskanje_konca i_konca (i + 1) xs\n",
    "    | x :: xs -> aux_iskanje_konca i (i + 1) xs (*Torej raj nardim, da gre do vključno, in se poveča vsakič, k je neprazen znak.*)\n",
    "  in\n",
    "  let indeks_konca_niza = aux_iskanje_konca 0 0 desni_char_list in\n",
    "  let f_desni_map_z_indeksom_konca i c =\n",
    "    if i <= indeks_konca_niza then Some (Char.escaped c)\n",
    "    else None\n",
    "  in\n",
    "  filter_mapi f_desni_map_z_indeksom_konca desni_char_list\n",
    "  |> String.concat \"\"\n",
    "  (* ubistvu bi rabla filter_mapi, ki pa ne obstaja, ampak smo ga enkrat implementiral ...*)\n",
    "  (*hotla sm neki z List.mapi in pol vrže ven vse ostale.\n",
    "  Une spremeni v string, tisto pa vrže ven, kar je odveč. A probam?*)"
   ]
  },
  {
   "cell_type": "code",
   "execution_count": 41,
   "metadata": {
    "vscode": {
     "languageId": "ocaml"
    }
   },
   "outputs": [
    {
     "data": {
      "text/plain": [
       "val cl1 : char list = [' '; ' '; 'a'; 'b'; ' '; 'c'; ' ']\n"
      ]
     },
     "execution_count": 41,
     "metadata": {},
     "output_type": "execute_result"
    }
   ],
   "source": [
    "let cl1 = [' '; ' '; 'a'; 'b'; ' '; 'c'; ' ']"
   ]
  },
  {
   "cell_type": "code",
   "execution_count": 42,
   "metadata": {
    "vscode": {
     "languageId": "ocaml"
    }
   },
   "outputs": [
    {
     "data": {
      "text/plain": [
       "- : string = \"  ab c\"\n"
      ]
     },
     "execution_count": 42,
     "metadata": {},
     "output_type": "execute_result"
    }
   ],
   "source": [
    "pomozna_desni cl1"
   ]
  }
 ],
 "metadata": {
  "kernelspec": {
   "display_name": "OCaml 4.14",
   "language": "OCaml",
   "name": "ocaml-jupyter"
  },
  "language_info": {
   "codemirror_mode": "text/x-ocaml",
   "file_extension": ".ml",
   "mimetype": "text/x-ocaml",
   "name": "OCaml",
   "nbconverter_exporter": null,
   "pygments_lexer": "OCaml",
   "version": "4.14.2"
  }
 },
 "nbformat": 4,
 "nbformat_minor": 2
}
